{
 "cells": [
  {
   "cell_type": "code",
   "execution_count": 1,
   "metadata": {},
   "outputs": [],
   "source": [
    "import matplotlib.pyplot as plt\n",
    "import numpy as np\n",
    "from time import localtime, strftime\n",
    "import seaborn as sns\n",
    "import torch\n",
    "import torch.nn as nn\n",
    "import torch.utils.data as torch_data\n",
    "import torch.nn.functional as F\n",
    "import torch.optim as optim\n",
    "import sklearn.preprocessing as preprocess\n",
    "from sklearn import decomposition\n",
    "from sklearn.model_selection import train_test_split\n",
    "from sklearn.metrics import confusion_matrix, classification_report, accuracy_score\n",
    "from sklearn import covariance as cov\n",
    "import pandas as pd\n",
    "from pdb import set_trace as bp\n",
    "%matplotlib inline"
   ]
  },
  {
   "cell_type": "code",
   "execution_count": 2,
   "metadata": {},
   "outputs": [],
   "source": [
    "from skorch import NeuralNetClassifier\n",
    "# from skorch.classifier import NeuralNetBinaryClassifier, CVSplit\n",
    "from skorch.callbacks import EpochScoring"
   ]
  },
  {
   "cell_type": "code",
   "execution_count": 3,
   "metadata": {},
   "outputs": [],
   "source": [
    "data_dir = '/media/l7/data_storage1/datasets/afib_dataset/training2017/'"
   ]
  },
  {
   "cell_type": "markdown",
   "metadata": {},
   "source": [
    "## Main Points: \n",
    "* Feature Engineering\n",
    "* Deep Learning (CNN)\n",
    "* Class imbalance\n",
    "* PyTorch\n",
    "* Scorch\n",
    "* SKLearn\n"
   ]
  },
  {
   "cell_type": "code",
   "execution_count": 4,
   "metadata": {},
   "outputs": [],
   "source": [
    "\n",
    "def get_fft(data, absolute_value=True):\n",
    "    \"\"\"\n",
    "    Compute the fft for a specific input dataset.\n",
    "    :param data:\n",
    "    :param absolute_value:\n",
    "    :return:\n",
    "    \"\"\"\n",
    "    fft_data = np.fft.fft(data, axis=1) * 1/data.shape[1]\n",
    "    if not absolute_value:\n",
    "        return fft_data\n",
    "    else:\n",
    "        abs_fft_data = abs(fft_data[:,:int(fft_data.shape[1] / 2)])\n",
    "        return abs_fft_data\n",
    "\n",
    "\n",
    "def label_mapping(label):\n",
    "    if label == 'N':\n",
    "        return 0\n",
    "    elif label =='A':\n",
    "        return 1\n",
    "    elif label =='O': \n",
    "        return 2\n",
    "    else: \n",
    "        return 3\n",
    "    \n",
    "class GeneralDataset(torch_data.Dataset):\n",
    "    \n",
    "    def __init__(self, data, labels):\n",
    "        self.data = data\n",
    "        self.labels = labels\n",
    "    \n",
    "    def __len__(self,):\n",
    "        return len(self.data)\n",
    "    \n",
    "    def __getitem__(self,index):\n",
    "        sample = {'signal': torch.tensor(self.data[index]).float(),\n",
    "                 'label': torch.tensor(self.labels[index]).long()}\n",
    "        return sample"
   ]
  },
  {
   "cell_type": "code",
   "execution_count": 5,
   "metadata": {},
   "outputs": [
    {
     "data": {
      "text/plain": [
       "array([[-0.127, -0.162, -0.197, ...,  0.   ,  0.   ,  0.   ],\n",
       "       [ 0.128,  0.157,  0.189, ...,  0.   ,  0.   ,  0.   ],\n",
       "       [ 0.056,  0.073,  0.085, ...,  0.   ,  0.   ,  0.   ],\n",
       "       ...,\n",
       "       [-0.202, -0.235, -0.272, ...,  0.   ,  0.   ,  0.   ],\n",
       "       [-0.227, -0.297, -0.374, ...,  0.   ,  0.   ,  0.   ],\n",
       "       [-0.237, -0.286, -0.338, ...,  0.   ,  0.   ,  0.   ]])"
      ]
     },
     "execution_count": 5,
     "metadata": {},
     "output_type": "execute_result"
    }
   ],
   "source": [
    "data_np = np.load(data_dir + 'data_np.npy')\n",
    "labels_np = np.load(data_dir + 'labels.npy')\n",
    "data_np"
   ]
  },
  {
   "cell_type": "code",
   "execution_count": 6,
   "metadata": {},
   "outputs": [
    {
     "data": {
      "text/plain": [
       "array([[-0.127, -0.162, -0.197, ...,  0.   ,  0.   ,  0.   ],\n",
       "       [ 0.128,  0.157,  0.189, ...,  0.   ,  0.   ,  0.   ],\n",
       "       [ 0.056,  0.073,  0.085, ...,  0.   ,  0.   ,  0.   ],\n",
       "       ...,\n",
       "       [ 0.565,  0.676,  0.783, ...,  0.   ,  0.   ,  0.   ],\n",
       "       [-0.039, -0.06 , -0.077, ...,  0.   ,  0.   ,  0.   ],\n",
       "       [-0.268, -0.325, -0.383, ...,  0.   ,  0.   ,  0.   ]])"
      ]
     },
     "execution_count": 6,
     "metadata": {},
     "output_type": "execute_result"
    }
   ],
   "source": [
    "validation_data_np = np.load(data_dir + 'validation_data_np.npy')\n",
    "validation_labels_np = np.load(data_dir + 'validation_labels.npy')\n",
    "validation_data_np"
   ]
  },
  {
   "cell_type": "markdown",
   "metadata": {},
   "source": [
    "## Establish Sample Size\n",
    "\n",
    "By definition, we can classify whether or not a signal is Afib with 30 seconds of information. Therefore, in order to make our input dimensions smaller, let's make sure that we have at most 30 seconds worth of information. Based on the sampling frequency, this means that we will have at most 9000 samples in the input dimension. "
   ]
  },
  {
   "cell_type": "code",
   "execution_count": 7,
   "metadata": {},
   "outputs": [],
   "source": [
    "sample_size = 9000"
   ]
  },
  {
   "cell_type": "markdown",
   "metadata": {},
   "source": [
    "## Scale Data for Processing\n"
   ]
  },
  {
   "cell_type": "code",
   "execution_count": 11,
   "metadata": {},
   "outputs": [],
   "source": [
    "?preprocess.StandardScaler"
   ]
  },
  {
   "cell_type": "code",
   "execution_count": 8,
   "metadata": {},
   "outputs": [],
   "source": [
    "standard_scaler = preprocess.StandardScaler()\n",
    "standard_scaler.fit(data_np[:,:sample_size])\n",
    "processed_data = standard_scaler.transform(data_np[:,:sample_size])"
   ]
  },
  {
   "cell_type": "code",
   "execution_count": 9,
   "metadata": {},
   "outputs": [],
   "source": [
    "standard_scaler = preprocess.StandardScaler()\n",
    "standard_scaler.fit(validation_data_np[:,:sample_size])\n",
    "validation_processed_data = standard_scaler.transform(validation_data_np[:,:sample_size])"
   ]
  },
  {
   "cell_type": "markdown",
   "metadata": {},
   "source": [
    "## Add Helper Functions\n",
    "\n",
    "Below we add a couple of helper functions to aid in the class balancing"
   ]
  },
  {
   "cell_type": "code",
   "execution_count": 10,
   "metadata": {},
   "outputs": [],
   "source": [
    "def add_noise_to_dataset(data, numpy_data=False, noise_distribution=None, std=1.0):\n",
    "    \"\"\"\n",
    "    This function adds noise to data array. Noise is added for some specific distribution, with a set\n",
    "    standard deviation.\n",
    "    :param data: numpy array\n",
    "    :param numpy_data: bool, describing whether or not the data is a numpy array (otherwise it will be torch tensor)\n",
    "    :param noise_distribution:\n",
    "    :param std:\n",
    "    :return: numpy array with added noise\n",
    "    \"\"\"\n",
    "    numpy_tensor = False\n",
    "    pytorch_tensor = False\n",
    "    if not numpy_data:\n",
    "        if 'numpy' in str(type(data)):\n",
    "            numpy_tensor = True\n",
    "            data = torch.tensor(data).float()\n",
    "        else:\n",
    "            pytorch_tensor = True\n",
    "\n",
    "    if not noise_distribution:\n",
    "        if numpy_data:\n",
    "            noise_distribution = np.random.randn(data.shape[0], data.shape[1])\n",
    "            data = data + noise_distribution\n",
    "        else:\n",
    "            noise_distribution = np.random.randn(data.shape[0], data.shape[1], data.shape[2])\n",
    "            data = data + torch.tensor(noise_distribution).float().to(data.device)\n",
    "\n",
    "    else:\n",
    "        if numpy_data:\n",
    "            data = data + noise_distribution(scale=std,\n",
    "                                             size=[data.shape[0], data.shape[1]])\n",
    "        else:\n",
    "            data = data + torch.tensor(\n",
    "                noise_distribution(scale=std, size=[data.shape[0], data.shape[1], data.shape[2]])).float().to(data.device)\n",
    "    if pytorch_tensor:\n",
    "        return data\n",
    "    elif numpy_data:\n",
    "        return data\n",
    "    else:\n",
    "        return data.numpy()"
   ]
  },
  {
   "cell_type": "code",
   "execution_count": 11,
   "metadata": {},
   "outputs": [],
   "source": [
    "def double_class_rows(dataset, labels, class_number=1, random_state=1,\n",
    "                     add_noise=False, noise_distribution=None, std=1.0):\n",
    "    \"\"\"\n",
    "    This function helps balance by adding (or cloning) observations of a specific type.\n",
    "    :param dataset:\n",
    "    :param labels:\n",
    "    :param class_number:\n",
    "    :param random_state:\n",
    "    :return:\n",
    "    \"\"\"\n",
    "#     bp()\n",
    "    sample_rows = np.where(labels == class_number)\n",
    "    if add_noise:\n",
    "        dataset_new = add_noise_to_dataset(dataset[sample_rows],\n",
    "                                numpy_data=True, \n",
    "                                noise_distribution=noise_distribution, \n",
    "                                std=std)\n",
    "    else:\n",
    "        dataset_new = dataset[sample_rows]\n",
    "    dataset = np.concatenate((dataset, dataset_new))\n",
    "    labels = np.concatenate((labels, labels[sample_rows]))\n",
    "    dataset, x_test, labels, y_test = train_test_split(dataset,\n",
    "                                                      labels,\n",
    "                                                      test_size=0,\n",
    "                                                      random_state=random_state)\n",
    "    print(dataset.shape)\n",
    "    return dataset, labels\n",
    "    "
   ]
  },
  {
   "cell_type": "code",
   "execution_count": 21,
   "metadata": {},
   "outputs": [],
   "source": [
    "classes = ['N', 'A', 'O', '~']\n",
    "def plot_confusion_matrix(y_pred, y, prefix_information='',\n",
    "                          dataset_name='', save_results=False,\n",
    "                          y_pred_is_predicted_classes=False):\n",
    "    \"\"\"\n",
    "    PLotting confusion matrix of different datasets (train, test, and validation).\n",
    "    :param y_pred:\n",
    "    :param y:\n",
    "    :param prefix_information:\n",
    "    :param dataset_name:\n",
    "    :param save_results:\n",
    "    :param y_pred_is_predicted_classes:\n",
    "    :return:\n",
    "    \"\"\"\n",
    "    if 'Tensor' in str(type(y)):\n",
    "        y = y.numpy()\n",
    "    c_matrix = confusion_matrix(y, y_pred)\n",
    "    accuracy = accuracy_score(y, y_pred)\n",
    "    result_accuracy_string = \"Accuracy of Net: {:.2f}\".format(accuracy)\n",
    "    print(result_accuracy_string)\n",
    "    print(\"\\nClassification report:\")\n",
    "    classfication_report_string = classification_report(y, y_pred)\n",
    "    print(classfication_report_string)\n",
    "    fig, ax = plt.subplots(1, figsize=(10, 10))\n",
    "    #ax.set_title(dataset_name + \" Confusion matrix\")\n",
    "    ax.set_title(\" Confusion matrix\", fontsize=24)\n",
    "    sns.heatmap(c_matrix, cmap='Blues', \n",
    "                annot=True, xticklabels=classes, \n",
    "                yticklabels=classes, fmt='g', cbar=False)\n",
    "    bottom, top = ax.get_ylim()\n",
    "    ax.set_ylim(bottom + 0.5, top - 0.5)\n",
    "    ax.set_xlabel('predictions', fontsize=22)\n",
    "    ax.set_ylabel('true labels', fontsize=22)\n",
    "    plt.tick_params(labelsize=18)\n",
    "    plt.tight_layout()\n",
    "    # plt.show()\n",
    "    return accuracy\n",
    "    "
   ]
  },
  {
   "cell_type": "code",
   "execution_count": 73,
   "metadata": {},
   "outputs": [],
   "source": [
    "class LeNet5(nn.Module):\n",
    "    def __init__(self, n_channels, n_features, mid_layer_channels=10,\n",
    "                 C_k_p_s_1=[5, 0, 1], M_k_s_1=[2, 2], C_k_p_s_2=[5, 0, 1],\n",
    "                 M_k_s_2=[2, 2], p=[0.0, 0.0, 0.0, 0.0, 0.0]):\n",
    "        \"\"\"\n",
    "        Replica of a LeNet5 model, with adaptable parameters\n",
    "        :param n_channels: number of channels in the input data\n",
    "        :param n_features: number of features in the input data\n",
    "        :param mid_layer_channels: number of layers which will be produced by the \n",
    "        the middle CNN layer\n",
    "        :param C_k_p_s_1: list containing kernel_size, padding, and stride\n",
    "        :param C_k_p_s_2: list containing kernel_size, padding, and stride \n",
    "        :param M_k_s_1: list containing max pooling kernel_size and stride\n",
    "        :param M_k_s_2: list containing max pooling kernel_size and stride\n",
    "        :param p: dropout layer probabilities\n",
    "        \"\"\"\n",
    "        super(LeNet5, self).__init__()\n",
    "        self.name = 'LetNet5'\n",
    "        self.conv1d_1 = nn.Conv1d(n_channels, mid_layer_channels,\n",
    "                                  kernel_size=C_k_p_s_1[0], padding=C_k_p_s_1[1],\n",
    "                                  stride=C_k_p_s_1[2])\n",
    "        self.relu = nn.ReLU()\n",
    "        self.max_pool_1 = nn.MaxPool1d(kernel_size=M_k_s_1[0],\n",
    "                                       stride=M_k_s_1[1])\n",
    "        current_input_size = \\\n",
    "        (1 + (n_features - C_k_p_s_1[0] + 2 * C_k_p_s_1[1]) / C_k_p_s_1[2]) / M_k_s_1[0]\n",
    "        current_input_size = int(current_input_size)\n",
    "        self.drop_out_1 = nn.Dropout(p=p[0])\n",
    "#         bp()\n",
    "        self.conv1d_2 = nn.Conv1d(mid_layer_channels,\n",
    "                                  2 * mid_layer_channels, \n",
    "                                  kernel_size=C_k_p_s_2[0],\n",
    "                                  padding=C_k_p_s_2[1],\n",
    "                                  stride=C_k_p_s_2[2])\n",
    "        current_input_size = \\\n",
    "        (1 + (current_input_size - C_k_p_s_2[0] + 2 * C_k_p_s_2[1]) / C_k_p_s_2[2]) / M_k_s_1[0]\n",
    "        current_input_size = int(current_input_size)\n",
    "        self.drop_out_2 = nn.Dropout(p=p[1])\n",
    "#         bp()\n",
    "        self.max_pool_2 = nn.MaxPool1d(kernel_size=M_k_s_2[0],\n",
    "                                       stride=M_k_s_2[1])\n",
    "#         bp()\n",
    "        self.fc1 = nn.Linear(2 * mid_layer_channels * current_input_size, 120)\n",
    "        self.drop_out_3 = nn.Dropout(p=p[2])\n",
    "        self.fc2 = nn.Linear(120, 84)\n",
    "        self.drop_out_4 = nn.Dropout(p=p[3])\n",
    "        self.fc3 = nn.Linear(84, 10)\n",
    "        self.drop_out_5 = nn.Dropout(p=p[4])\n",
    "        self.soft_max = nn.Softmax(dim=1)\n",
    "        self.fc4 = nn.Linear(10, 4)\n",
    "        \n",
    "    def forward(self, x):\n",
    "#         bp()\n",
    "        x = x.float()\n",
    "        x = self.max_pool_1(self.relu(self.drop_out_1(self.conv1d_1(x))))\n",
    "        # bp()\n",
    "        x = self.max_pool_2(self.relu(self.drop_out_2(self.conv1d_2(x))))\n",
    "        x = x.view(x.shape[0], x.shape[1] * x.shape[2])\n",
    "        x = self.relu(self.drop_out_3(self.fc1(x)))\n",
    "        x = self.relu(self.drop_out_4(self.fc2(x)))\n",
    "        x = self.relu(self.drop_out_5(self.fc3(x)))\n",
    "        x = self.fc4(x)\n",
    "        x = self.soft_max(x)\n",
    "        return x\n"
   ]
  },
  {
   "cell_type": "code",
   "execution_count": 23,
   "metadata": {},
   "outputs": [],
   "source": [
    "def train_model(n_features, n_channels, x_train, y_train,\n",
    "               device = torch.device('cuda'), model_name = LeNet5.__name__,\n",
    "               model = None, n_epochs = 10):\n",
    "    if model is None:\n",
    "        model = NeuralNetClassifier(module=LeNet5, \n",
    "                                    criterion=nn.CrossEntropyLoss,\n",
    "                                    module__n_channels= n_channels,\n",
    "                                    module__n_features=n_features,\n",
    "                                    optimizer=optim.Adam, \n",
    "                                    optimizer__lr=0.001,\n",
    "                                    max_epochs=n_epochs, \n",
    "                                    batch_size=32,\n",
    "                                    iterator_train__shuffle=True,\n",
    "                                    device=device,\n",
    "                                    warm_start=True,\n",
    "                                   )\n",
    "    model.fit(x_train, y_train, epochs=n_epochs)\n",
    "    pred_train = model.predict(x_train)\n",
    "    accuracy = plot_confusion_matrix(pred_train, y_train, )\n",
    "    return model, pred_train, accuracy\n",
    "    "
   ]
  },
  {
   "cell_type": "code",
   "execution_count": 137,
   "metadata": {},
   "outputs": [],
   "source": [
    "train_data = processed_data\n",
    "test_data = validation_processed_data\n",
    "labels_train = labels_np\n"
   ]
  },
  {
   "cell_type": "code",
   "execution_count": 138,
   "metadata": {},
   "outputs": [],
   "source": [
    "labels_test = validation_labels_np"
   ]
  },
  {
   "cell_type": "code",
   "execution_count": 139,
   "metadata": {},
   "outputs": [
    {
     "data": {
      "image/png": "[encoded data removed]",
      "text/plain": [
       "<Figure size 1080x720 with 1 Axes>"
      ]
     },
     "metadata": {
      "needs_background": "light"
     },
     "output_type": "display_data"
    }
   ],
   "source": [
    "plt.figure(figsize=(15,10))\n",
    "plt.hist(labels_train)\n",
    "plt.title('Training Labels', fontsize=22)\n",
    "plt.xlabel('Training Classes', fontsize=20)\n",
    "plt.xticks([0, 1, 2, 3])\n",
    "plt.ylabel('Number of Labels', fontsize=20)\n",
    "plt.show()"
   ]
  },
  {
   "cell_type": "code",
   "execution_count": 140,
   "metadata": {},
   "outputs": [
    {
     "name": "stdout",
     "output_type": "stream",
     "text": [
      "(9266, 9000)\n",
      "(9550, 9000)\n",
      "(10118, 9000)\n",
      "(11594, 9000)\n"
     ]
    }
   ],
   "source": [
    "train_data, labels_train = double_class_rows(train_data, labels_np, class_number=1, \n",
    "                                             noise_distribution=np.random.normal, \n",
    "                                             add_noise=True, std=0.1)\n",
    "train_data, labels_train = double_class_rows(train_data, labels_train, class_number=3, \n",
    "                                             noise_distribution=np.random.normal, \n",
    "                                             add_noise=True, std=0.3)\n",
    "train_data, labels_train = double_class_rows(train_data, labels_train, class_number=3, \n",
    "                                             noise_distribution=np.random.normal, \n",
    "                                             add_noise=True, std=0.1)\n",
    "train_data, labels_train = double_class_rows(train_data, labels_train, class_number=1, \n",
    "                                             noise_distribution=np.random.normal, \n",
    "                                             add_noise=True, std=0.1)"
   ]
  },
  {
   "cell_type": "code",
   "execution_count": null,
   "metadata": {},
   "outputs": [
    {
     "name": "stdout",
     "output_type": "stream",
     "text": [
      "(12730, 9000)\n",
      "(15002, 9000)\n"
     ]
    }
   ],
   "source": [
    "train_data, labels_train = double_class_rows(train_data, labels_train, class_number=3, \n",
    "                                             noise_distribution=np.random.normal, \n",
    "                                             add_noise=True, std=0.1)\n",
    "train_data, labels_train = double_class_rows(train_data, labels_train, class_number=3, \n",
    "                                             noise_distribution=np.random.normal, \n",
    "                                             add_noise=True, std=0.3)\n",
    "train_data, labels_train = double_class_rows(train_data, labels_train, class_number=2, \n",
    "                                             noise_distribution=np.random.normal, \n",
    "                                             add_noise=True, std=0.1)\n",
    "train_data, labels_train = double_class_rows(train_data, labels_train, class_number=1, \n",
    "                                             noise_distribution=np.random.normal, \n",
    "                                             add_noise=True, std=0.1)"
   ]
  },
  {
   "cell_type": "code",
   "execution_count": 122,
   "metadata": {},
   "outputs": [
    {
     "data": {
      "image/png": "[encoded data removed]",
      "text/plain": [
       "<Figure size 1080x720 with 1 Axes>"
      ]
     },
     "metadata": {
      "needs_background": "light"
     },
     "output_type": "display_data"
    }
   ],
   "source": [
    "plt.figure(figsize=(15,10))\n",
    "plt.hist(labels_train)\n",
    "plt.title('Training Labels', fontsize=22)\n",
    "plt.xlabel('Training Classes', fontsize=20)\n",
    "plt.xticks([0, 1, 2, 3])\n",
    "plt.ylabel('Number of Labels', fontsize=20)\n",
    "plt.show()"
   ]
  },
  {
   "cell_type": "markdown",
   "metadata": {},
   "source": [
    "## Get FFT features of the Data"
   ]
  },
  {
   "cell_type": "code",
   "execution_count": 123,
   "metadata": {},
   "outputs": [],
   "source": [
    "fft_train_data = get_fft(data=train_data, absolute_value=True)"
   ]
  },
  {
   "cell_type": "code",
   "execution_count": 124,
   "metadata": {},
   "outputs": [
    {
     "data": {
      "text/plain": [
       "(300, 4500)"
      ]
     },
     "execution_count": 124,
     "metadata": {},
     "output_type": "execute_result"
    }
   ],
   "source": [
    "fft_test_data = get_fft(data=test_data, absolute_value=True)\n",
    "fft_test_data.shape"
   ]
  },
  {
   "cell_type": "code",
   "execution_count": 125,
   "metadata": {},
   "outputs": [
    {
     "data": {
      "text/plain": [
       "(11594, 4500)"
      ]
     },
     "execution_count": 125,
     "metadata": {},
     "output_type": "execute_result"
    }
   ],
   "source": [
    "fft_train_data.shape"
   ]
  },
  {
   "cell_type": "code",
   "execution_count": 126,
   "metadata": {},
   "outputs": [],
   "source": [
    "dimension_size = 3000"
   ]
  },
  {
   "cell_type": "code",
   "execution_count": 127,
   "metadata": {},
   "outputs": [
    {
     "data": {
      "text/plain": [
       "torch.Size([11594, 1, 3000])"
      ]
     },
     "execution_count": 127,
     "metadata": {},
     "output_type": "execute_result"
    }
   ],
   "source": [
    "x_train = torch.tensor(fft_train_data[:,:dimension_size]).float().unsqueeze(1)\n",
    "y_train = torch.tensor(labels_train).long()\n",
    "x_train.shape"
   ]
  },
  {
   "cell_type": "code",
   "execution_count": 128,
   "metadata": {},
   "outputs": [
    {
     "data": {
      "text/plain": [
       "torch.Size([300, 1, 3000])"
      ]
     },
     "execution_count": 128,
     "metadata": {},
     "output_type": "execute_result"
    }
   ],
   "source": [
    "x_test = torch.tensor(fft_test_data[:,:dimension_size]).float().unsqueeze(1)\n",
    "y_test = torch.tensor(labels_test).long()\n",
    "x_test.shape"
   ]
  },
  {
   "cell_type": "code",
   "execution_count": 135,
   "metadata": {},
   "outputs": [
    {
     "name": "stdout",
     "output_type": "stream",
     "text": [
      "  epoch    train_loss    valid_acc    valid_loss     dur\n",
      "-------  ------------  -----------  ------------  ------\n",
      "      1        \u001b[36m1.3096\u001b[0m       \u001b[32m0.4352\u001b[0m        \u001b[35m1.3029\u001b[0m  1.3742\n",
      "      2        \u001b[36m1.3066\u001b[0m       0.4352        1.3085  1.3257\n",
      "      3        1.3071       0.4352        1.3085  1.3275\n",
      "      4        \u001b[36m1.3046\u001b[0m       0.4352        \u001b[35m1.2997\u001b[0m  1.3302\n",
      "      5        \u001b[36m1.2666\u001b[0m       \u001b[32m0.6368\u001b[0m        \u001b[35m1.1212\u001b[0m  1.3370\n",
      "      6        \u001b[36m1.0922\u001b[0m       \u001b[32m0.6747\u001b[0m        \u001b[35m1.0634\u001b[0m  1.3370\n",
      "      7        \u001b[36m1.0681\u001b[0m       0.6575        1.0863  1.3349\n",
      "      8        \u001b[36m1.0661\u001b[0m       \u001b[32m0.6782\u001b[0m        1.0647  1.3389\n",
      "      9        1.0666       \u001b[32m0.6816\u001b[0m        \u001b[35m1.0569\u001b[0m  1.3296\n",
      "     10        1.0740       \u001b[32m0.6859\u001b[0m        \u001b[35m1.0538\u001b[0m  1.3309\n",
      "     11        \u001b[36m1.0595\u001b[0m       \u001b[32m0.6894\u001b[0m        \u001b[35m1.0510\u001b[0m  1.3369\n",
      "     12        1.0645       \u001b[32m0.6898\u001b[0m        \u001b[35m1.0501\u001b[0m  1.3416\n",
      "     13        \u001b[36m1.0594\u001b[0m       0.6807        1.0625  1.3409\n",
      "     14        \u001b[36m1.0566\u001b[0m       0.6898        1.0516  1.3410\n",
      "     15        \u001b[36m1.0525\u001b[0m       0.6876        \u001b[35m1.0493\u001b[0m  1.3361\n",
      "     16        \u001b[36m1.0323\u001b[0m       \u001b[32m0.6984\u001b[0m        \u001b[35m1.0411\u001b[0m  1.3363\n",
      "     17        \u001b[36m1.0250\u001b[0m       \u001b[32m0.7079\u001b[0m        \u001b[35m1.0271\u001b[0m  1.3328\n",
      "     18        1.0273       \u001b[32m0.7152\u001b[0m        \u001b[35m1.0213\u001b[0m  1.3580\n",
      "     19        \u001b[36m1.0183\u001b[0m       \u001b[32m0.7247\u001b[0m        \u001b[35m1.0115\u001b[0m  1.4070\n",
      "     20        \u001b[36m1.0101\u001b[0m       \u001b[32m0.7264\u001b[0m        \u001b[35m1.0096\u001b[0m  1.3409\n",
      "     21        \u001b[36m1.0034\u001b[0m       \u001b[32m0.7346\u001b[0m        \u001b[35m1.0033\u001b[0m  1.3384\n",
      "     22        1.0074       0.7238        1.0153  1.3386\n",
      "     23        \u001b[36m1.0007\u001b[0m       0.7329        1.0060  1.3379\n",
      "     24        1.0055       0.7208        1.0142  1.3373\n",
      "     25        \u001b[36m0.9963\u001b[0m       0.6829        1.0483  1.3392\n",
      "     26        0.9975       \u001b[32m0.7398\u001b[0m        \u001b[35m1.0000\u001b[0m  1.3373\n",
      "     27        \u001b[36m0.9925\u001b[0m       0.7333        1.0056  1.3486\n",
      "     28        \u001b[36m0.9920\u001b[0m       0.7243        1.0112  1.3379\n",
      "     29        \u001b[36m0.9906\u001b[0m       0.7230        1.0161  1.3384\n",
      "     30        \u001b[36m0.9871\u001b[0m       \u001b[32m0.7449\u001b[0m        \u001b[35m0.9937\u001b[0m  1.3506\n",
      "     31        0.9893       0.7445        0.9940  1.3772\n",
      "     32        \u001b[36m0.9870\u001b[0m       0.7415        0.9974  1.3355\n",
      "     33        \u001b[36m0.9853\u001b[0m       \u001b[32m0.7523\u001b[0m        \u001b[35m0.9855\u001b[0m  1.3415\n",
      "     34        \u001b[36m0.9798\u001b[0m       0.7458        0.9925  1.3404\n",
      "     35        \u001b[36m0.9758\u001b[0m       \u001b[32m0.7561\u001b[0m        \u001b[35m0.9842\u001b[0m  1.3377\n",
      "     36        0.9809       0.7557        \u001b[35m0.9839\u001b[0m  1.3404\n",
      "     37        0.9865       0.7518        0.9869  1.3431\n",
      "     38        0.9799       0.7510        0.9899  1.3514\n",
      "     39        0.9761       0.7135        1.0220  1.3327\n",
      "     40        \u001b[36m0.9715\u001b[0m       \u001b[32m0.7583\u001b[0m        \u001b[35m0.9833\u001b[0m  1.3397\n",
      "Accuracy of Net: 0.78\n",
      "\n",
      "Classification report:\n",
      "              precision    recall  f1-score   support\n",
      "\n",
      "           0       0.73      0.93      0.82      5050\n",
      "           1       0.90      0.83      0.86      2952\n",
      "           2       0.67      0.44      0.54      2456\n",
      "           3       0.92      0.67      0.77      1136\n",
      "\n",
      "   micro avg       0.78      0.78      0.78     11594\n",
      "   macro avg       0.81      0.72      0.75     11594\n",
      "weighted avg       0.78      0.78      0.76     11594\n",
      "\n"
     ]
    },
    {
     "data": {
      "image/png": "[encoded data removed]",
      "text/plain": [
       "<Figure size 720x720 with 1 Axes>"
      ]
     },
     "metadata": {
      "needs_background": "light"
     },
     "output_type": "display_data"
    }
   ],
   "source": [
    "fft_model, \\\n",
    "fft_pred_train, \\\n",
    "fft_accuracy = train_model(n_features=dimension_size, n_channels=1, x_train=x_train,\n",
    "           y_train=y_train, n_epochs=40)"
   ]
  },
  {
   "cell_type": "code",
   "execution_count": 136,
   "metadata": {},
   "outputs": [
    {
     "name": "stdout",
     "output_type": "stream",
     "text": [
      "Accuracy of Net: 0.64\n",
      "\n",
      "Classification report:\n",
      "              precision    recall  f1-score   support\n",
      "\n",
      "           0       0.65      0.91      0.76       150\n",
      "           1       0.70      0.32      0.44        50\n",
      "           2       0.50      0.39      0.44        70\n",
      "           3       0.85      0.37      0.51        30\n",
      "\n",
      "   micro avg       0.64      0.64      0.64       300\n",
      "   macro avg       0.67      0.50      0.54       300\n",
      "weighted avg       0.64      0.64      0.61       300\n",
      "\n"
     ]
    },
    {
     "data": {
      "image/png": "[encoded data removed]",
      "text/plain": [
       "<Figure size 720x720 with 1 Axes>"
      ]
     },
     "metadata": {
      "needs_background": "light"
     },
     "output_type": "display_data"
    }
   ],
   "source": [
    "pred_test = fft_model.predict(x_test)\n",
    "accuracy = plot_confusion_matrix(pred_test, y_test)"
   ]
  },
  {
   "cell_type": "markdown",
   "metadata": {},
   "source": [
    "## Get PCA Features from the Data"
   ]
  },
  {
   "cell_type": "raw",
   "metadata": {},
   "source": [
    "data_cov = cov.ledoit_wolf(train_data, assume_centered=True)[0]\n",
    "eigen_values, eigen_vectors = np.linalg.eig(data_cov)"
   ]
  },
  {
   "cell_type": "raw",
   "metadata": {},
   "source": [
    "np.save(data_dir + 'eigen_values_train_data.npy', eigen_values)\n",
    "np.save(data_dir + 'eigen_vectors_train_data.npy', eigen_vectors)"
   ]
  },
  {
   "cell_type": "code",
   "execution_count": null,
   "metadata": {},
   "outputs": [],
   "source": [
    "eigen_values = np.load(data_dir + 'eigen_values_train_data.npy')\n",
    "eigen_vectors = np.load(data_dir + 'eigen_vectors_train_data.npy')"
   ]
  },
  {
   "cell_type": "code",
   "execution_count": 92,
   "metadata": {},
   "outputs": [
    {
     "data": {
      "text/plain": [
       "array([2.65990677e+02, 2.33120931e+02, 2.24581366e+02, ...,\n",
       "       9.16874993e-02, 9.17441601e-02, 9.19017255e-02])"
      ]
     },
     "execution_count": 92,
     "metadata": {},
     "output_type": "execute_result"
    }
   ],
   "source": [
    "eigen_values[:dimension_size]"
   ]
  },
  {
   "cell_type": "code",
   "execution_count": 93,
   "metadata": {},
   "outputs": [
    {
     "data": {
      "text/plain": [
       "(20410, 3000)"
      ]
     },
     "execution_count": 93,
     "metadata": {},
     "output_type": "execute_result"
    }
   ],
   "source": [
    "pca_train_data = train_data.dot(eigen_vectors[:,:dimension_size])\n",
    "pca_train_data.shape"
   ]
  },
  {
   "cell_type": "code",
   "execution_count": 94,
   "metadata": {},
   "outputs": [
    {
     "name": "stdout",
     "output_type": "stream",
     "text": [
      "torch.Size([20410, 1, 3000])\n",
      "  epoch    train_loss    valid_acc    valid_loss     dur\n",
      "-------  ------------  -----------  ------------  ------\n",
      "      1        \u001b[36m1.0459\u001b[0m       \u001b[32m0.7757\u001b[0m        \u001b[35m0.9650\u001b[0m  2.4723\n",
      "      2        \u001b[36m0.9884\u001b[0m       \u001b[32m0.7779\u001b[0m        \u001b[35m0.9578\u001b[0m  2.3475\n",
      "      3        \u001b[36m0.9498\u001b[0m       0.7443        0.9945  2.3526\n",
      "      4        \u001b[36m0.9290\u001b[0m       \u001b[32m0.7788\u001b[0m        \u001b[35m0.9567\u001b[0m  2.3462\n",
      "      5        \u001b[36m0.9096\u001b[0m       \u001b[32m0.8009\u001b[0m        \u001b[35m0.9370\u001b[0m  2.3570\n",
      "      6        \u001b[36m0.8761\u001b[0m       \u001b[32m0.8241\u001b[0m        \u001b[35m0.9175\u001b[0m  2.3488\n",
      "      7        \u001b[36m0.8567\u001b[0m       0.8229        0.9189  2.3511\n",
      "      8        \u001b[36m0.8439\u001b[0m       \u001b[32m0.8491\u001b[0m        \u001b[35m0.8950\u001b[0m  2.3524\n",
      "      9        \u001b[36m0.8377\u001b[0m       0.8491        \u001b[35m0.8938\u001b[0m  2.3514\n",
      "     10        \u001b[36m0.8288\u001b[0m       \u001b[32m0.8496\u001b[0m        \u001b[35m0.8908\u001b[0m  2.3612\n",
      "     11        \u001b[36m0.8174\u001b[0m       \u001b[32m0.8504\u001b[0m        0.8918  2.4856\n",
      "     12        \u001b[36m0.8112\u001b[0m       \u001b[32m0.8636\u001b[0m        \u001b[35m0.8782\u001b[0m  2.3602\n",
      "     13        \u001b[36m0.8083\u001b[0m       0.8633        \u001b[35m0.8774\u001b[0m  2.3606\n",
      "     14        \u001b[36m0.8058\u001b[0m       \u001b[32m0.8646\u001b[0m        0.8778  2.3550\n",
      "     15        \u001b[36m0.7988\u001b[0m       0.8614        0.8805  2.3510\n",
      "     16        \u001b[36m0.7937\u001b[0m       0.8433        0.8979  2.3497\n",
      "     17        \u001b[36m0.7922\u001b[0m       \u001b[32m0.8655\u001b[0m        \u001b[35m0.8763\u001b[0m  2.3515\n",
      "     18        0.7939       0.8391        0.9020  2.3521\n",
      "     19        0.8003       0.8648        0.8780  2.3500\n",
      "     20        0.7955       0.8501        0.8905  2.3561\n",
      "Accuracy of Net: 0.93\n",
      "\n",
      "Classification report:\n",
      "              precision    recall  f1-score   support\n",
      "\n",
      "           0       0.86      0.92      0.89      5050\n",
      "           1       0.99      0.93      0.96      5904\n",
      "           2       0.87      0.87      0.87      4912\n",
      "           3       1.00      1.00      1.00      4544\n",
      "\n",
      "   micro avg       0.93      0.93      0.93     20410\n",
      "   macro avg       0.93      0.93      0.93     20410\n",
      "weighted avg       0.93      0.93      0.93     20410\n",
      "\n"
     ]
    },
    {
     "data": {
      "image/png": "[encoded data removed]",
      "text/plain": [
       "<Figure size 720x720 with 1 Axes>"
      ]
     },
     "metadata": {
      "needs_background": "light"
     },
     "output_type": "display_data"
    }
   ],
   "source": [
    "x_train = torch.tensor(pca_train_data).float().unsqueeze(1)\n",
    "print(x_train.shape)\n",
    "pca_model, \\\n",
    "pca_pred_train, \\\n",
    "pca_accuracy = train_model(n_features=dimension_size, n_channels=1, x_train=x_train,\n",
    "           y_train=y_train, n_epochs=20)"
   ]
  },
  {
   "cell_type": "markdown",
   "metadata": {},
   "source": [
    "## Get Statistical Features"
   ]
  },
  {
   "cell_type": "code",
   "execution_count": 95,
   "metadata": {},
   "outputs": [
    {
     "data": {
      "text/plain": [
       "(20410, 5)"
      ]
     },
     "execution_count": 95,
     "metadata": {},
     "output_type": "execute_result"
    }
   ],
   "source": [
    "stat_train_data = np.zeros([train_data.shape[0], 5])\n",
    "stat_train_data[:, 0] += np.max(train_data, axis=1)\n",
    "stat_train_data[:, 1] += np.min(train_data, axis=1)\n",
    "stat_train_data[:, 2] += np.mean(train_data, axis=1)\n",
    "stat_train_data[:, 3] += np.median(train_data, axis=1)\n",
    "stat_train_data[:, 4] += np.std(train_data, axis=1)\n",
    "stat_train_data.shape"
   ]
  },
  {
   "cell_type": "code",
   "execution_count": 96,
   "metadata": {},
   "outputs": [
    {
     "data": {
      "text/plain": [
       "array([ 3.85051408, -2.08242993, -0.00409358, -0.10331411,  0.67377406])"
      ]
     },
     "execution_count": 96,
     "metadata": {},
     "output_type": "execute_result"
    }
   ],
   "source": [
    "stat_train_data[0]"
   ]
  },
  {
   "cell_type": "markdown",
   "metadata": {},
   "source": [
    "## Build Input Data with Concated Features\n",
    "\n",
    "Here, we concatenate the features, in order to produce an input dataset that contains the all features"
   ]
  },
  {
   "cell_type": "code",
   "execution_count": 97,
   "metadata": {},
   "outputs": [],
   "source": [
    "train_input_dimension = dimension_size\\\n",
    "                        + dimension_size\\\n",
    "                        + stat_train_data.shape[1]\n",
    "all_feature_train_data = np.zeros([train_data.shape[0], train_input_dimension])"
   ]
  },
  {
   "cell_type": "code",
   "execution_count": 98,
   "metadata": {},
   "outputs": [],
   "source": [
    "all_feature_train_data[:,:stat_train_data.shape[1]] += stat_train_data\n",
    "all_feature_train_data[:,stat_train_data.shape[1]:stat_train_data.shape[1]\\\n",
    "                       + dimension_size] += pca_train_data\n",
    "all_feature_train_data[:,stat_train_data.shape[1]\\\n",
    "                       + dimension_size:stat_train_data.shape[1]\\\n",
    "                       + 2 * dimension_size] += fft_train_data[:,:dimension_size]"
   ]
  },
  {
   "cell_type": "code",
   "execution_count": 99,
   "metadata": {},
   "outputs": [
    {
     "name": "stdout",
     "output_type": "stream",
     "text": [
      "torch.Size([20410, 1, 6005])\n",
      "  epoch    train_loss    valid_acc    valid_loss     dur\n",
      "-------  ------------  -----------  ------------  ------\n",
      "      1        \u001b[36m1.0470\u001b[0m       \u001b[32m0.7529\u001b[0m        \u001b[35m0.9877\u001b[0m  4.1203\n",
      "      2        \u001b[36m0.9738\u001b[0m       0.7272        1.0073  4.1190\n",
      "      3        \u001b[36m0.9386\u001b[0m       \u001b[32m0.7977\u001b[0m        \u001b[35m0.9391\u001b[0m  4.0740\n",
      "      4        \u001b[36m0.9147\u001b[0m       \u001b[32m0.8058\u001b[0m        \u001b[35m0.9338\u001b[0m  4.0866\n",
      "      5        \u001b[36m0.8943\u001b[0m       \u001b[32m0.8224\u001b[0m        \u001b[35m0.9162\u001b[0m  4.0882\n",
      "      6        \u001b[36m0.8755\u001b[0m       \u001b[32m0.8256\u001b[0m        \u001b[35m0.9141\u001b[0m  4.0903\n",
      "      7        \u001b[36m0.8529\u001b[0m       \u001b[32m0.8410\u001b[0m        \u001b[35m0.8976\u001b[0m  4.0899\n",
      "      8        \u001b[36m0.8386\u001b[0m       \u001b[32m0.8479\u001b[0m        \u001b[35m0.8936\u001b[0m  4.2167\n",
      "      9        \u001b[36m0.8330\u001b[0m       \u001b[32m0.8530\u001b[0m        \u001b[35m0.8876\u001b[0m  4.5119\n",
      "     10        \u001b[36m0.8138\u001b[0m       0.8455        0.8963  4.1824\n",
      "     11        \u001b[36m0.8071\u001b[0m       \u001b[32m0.8587\u001b[0m        \u001b[35m0.8853\u001b[0m  4.0816\n",
      "     12        \u001b[36m0.8021\u001b[0m       0.8406        0.8997  4.0928\n",
      "     13        0.8070       0.8435        0.8974  4.0946\n",
      "     14        0.8031       0.8535        0.8868  4.0940\n",
      "     15        \u001b[36m0.7946\u001b[0m       \u001b[32m0.8594\u001b[0m        \u001b[35m0.8823\u001b[0m  4.0880\n",
      "     16        0.7980       \u001b[32m0.8636\u001b[0m        \u001b[35m0.8761\u001b[0m  4.0927\n",
      "     17        \u001b[36m0.7930\u001b[0m       0.8496        0.8917  4.0867\n",
      "     18        \u001b[36m0.7923\u001b[0m       0.8597        0.8811  4.0926\n",
      "     19        \u001b[36m0.7892\u001b[0m       0.8526        0.8886  4.0906\n",
      "     20        \u001b[36m0.7874\u001b[0m       0.8548        0.8877  4.0865\n",
      "Accuracy of Net: 0.94\n",
      "\n",
      "Classification report:\n",
      "              precision    recall  f1-score   support\n",
      "\n",
      "           0       0.90      0.89      0.90      5050\n",
      "           1       0.96      1.00      0.98      5904\n",
      "           2       0.91      0.87      0.89      4912\n",
      "           3       1.00      1.00      1.00      4544\n",
      "\n",
      "   micro avg       0.94      0.94      0.94     20410\n",
      "   macro avg       0.94      0.94      0.94     20410\n",
      "weighted avg       0.94      0.94      0.94     20410\n",
      "\n"
     ]
    },
    {
     "data": {
      "image/png": "[encoded data removed]",
      "text/plain": [
       "<Figure size 720x720 with 1 Axes>"
      ]
     },
     "metadata": {
      "needs_background": "light"
     },
     "output_type": "display_data"
    }
   ],
   "source": [
    "x_train = torch.tensor(all_feature_train_data).float().unsqueeze(1)\n",
    "print(x_train.shape)\n",
    "all_feature_model, \\\n",
    "all_feature_pred_train, \\\n",
    "all_feature_accuracy = train_model(n_features=train_input_dimension, \n",
    "                                   n_channels=1, x_train=x_train,\n",
    "           y_train=y_train, n_epochs=20)"
   ]
  },
  {
   "cell_type": "markdown",
   "metadata": {},
   "source": [
    "## Verifying Feature Correlations"
   ]
  },
  {
   "cell_type": "code",
   "execution_count": 100,
   "metadata": {},
   "outputs": [
    {
     "data": {
      "text/plain": [
       "array([[ 1.        , -0.57855954,  0.2653742 , ...,  0.28580382,\n",
       "         0.26154322,  0.27188927],\n",
       "       [-0.57855954,  1.        ,  0.24306153, ..., -0.31461095,\n",
       "        -0.30200439, -0.31059184],\n",
       "       [ 0.2653742 ,  0.24306153,  1.        , ..., -0.0388657 ,\n",
       "        -0.05856764, -0.04640667],\n",
       "       ...,\n",
       "       [ 0.28580382, -0.31461095, -0.0388657 , ...,  1.        ,\n",
       "         0.66924121,  0.67781492],\n",
       "       [ 0.26154322, -0.30200439, -0.05856764, ...,  0.66924121,\n",
       "         1.        ,  0.66462849],\n",
       "       [ 0.27188927, -0.31059184, -0.04640667, ...,  0.67781492,\n",
       "         0.66462849,  1.        ]])"
      ]
     },
     "execution_count": 100,
     "metadata": {},
     "output_type": "execute_result"
    }
   ],
   "source": [
    "correlations = np.corrcoef(all_feature_train_data, rowvar=False)\n",
    "correlations"
   ]
  },
  {
   "cell_type": "code",
   "execution_count": 101,
   "metadata": {},
   "outputs": [
    {
     "name": "stdout",
     "output_type": "stream",
     "text": [
      "mean: [0.15955077 0.17246912 0.02555307 ... 0.24350552 0.2373679  0.23910108]\n",
      "min: [7.86154883e-07 7.58334660e-07 1.47395847e-07 ... 3.84406938e-07\n",
      " 9.10248730e-06 1.52929879e-07]\n",
      "median: [0.15569757 0.19161373 0.00741689 ... 0.06136281 0.05481815 0.05353201]\n"
     ]
    }
   ],
   "source": [
    "abs_correlations = np.abs(correlations)\n",
    "mean_corr = abs_correlations.mean(axis=1)\n",
    "print(\"mean: {}\".format(mean_corr))\n",
    "min_corr = abs_correlations.min(axis=1)\n",
    "print(\"min: {}\".format(min_corr))\n",
    "median_corr = np.median(abs_correlations, axis=1)\n",
    "print(\"median: {}\".format(median_corr))"
   ]
  },
  {
   "cell_type": "code",
   "execution_count": 102,
   "metadata": {},
   "outputs": [
    {
     "name": "stdout",
     "output_type": "stream",
     "text": [
      "2112\n"
     ]
    }
   ],
   "source": [
    "chosen_features = np.where(mean_corr <=0.005)\n",
    "number_of_chosen_features = len(chosen_features[0])\n",
    "print(number_of_chosen_features)\n"
   ]
  },
  {
   "cell_type": "markdown",
   "metadata": {},
   "source": [
    "## Training with Least Correlated Features"
   ]
  },
  {
   "cell_type": "code",
   "execution_count": 103,
   "metadata": {},
   "outputs": [
    {
     "name": "stdout",
     "output_type": "stream",
     "text": [
      "torch.Size([20410, 1, 2112])\n",
      "  epoch    train_loss    valid_acc    valid_loss     dur\n",
      "-------  ------------  -----------  ------------  ------\n",
      "      1        \u001b[36m1.0557\u001b[0m       \u001b[32m0.7034\u001b[0m        \u001b[35m1.0210\u001b[0m  1.8873\n",
      "      2        \u001b[36m0.9734\u001b[0m       \u001b[32m0.7712\u001b[0m        \u001b[35m0.9645\u001b[0m  1.8442\n",
      "      3        \u001b[36m0.9483\u001b[0m       \u001b[32m0.7979\u001b[0m        \u001b[35m0.9407\u001b[0m  1.8567\n",
      "      4        \u001b[36m0.9230\u001b[0m       0.7752        0.9655  1.8446\n",
      "      5        \u001b[36m0.9024\u001b[0m       \u001b[32m0.8077\u001b[0m        \u001b[35m0.9308\u001b[0m  1.8526\n",
      "      6        \u001b[36m0.8870\u001b[0m       0.8033        0.9342  1.8455\n",
      "      7        \u001b[36m0.8689\u001b[0m       \u001b[32m0.8090\u001b[0m        0.9316  1.8484\n",
      "      8        \u001b[36m0.8546\u001b[0m       \u001b[32m0.8325\u001b[0m        \u001b[35m0.9089\u001b[0m  1.8458\n",
      "      9        \u001b[36m0.8410\u001b[0m       0.8161        0.9260  1.8424\n",
      "     10        \u001b[36m0.8405\u001b[0m       0.8308        0.9106  1.8933\n",
      "     11        \u001b[36m0.8251\u001b[0m       \u001b[32m0.8406\u001b[0m        \u001b[35m0.9008\u001b[0m  1.8639\n",
      "     12        \u001b[36m0.8197\u001b[0m       0.8381        0.9019  1.8507\n",
      "     13        \u001b[36m0.8129\u001b[0m       \u001b[32m0.8413\u001b[0m        \u001b[35m0.9004\u001b[0m  1.9374\n",
      "     14        \u001b[36m0.8059\u001b[0m       \u001b[32m0.8459\u001b[0m        \u001b[35m0.8965\u001b[0m  1.8587\n",
      "     15        \u001b[36m0.8054\u001b[0m       0.8430        0.8997  1.8605\n",
      "     16        \u001b[36m0.7978\u001b[0m       0.8246        0.9151  1.8454\n",
      "     17        \u001b[36m0.7946\u001b[0m       \u001b[32m0.8474\u001b[0m        \u001b[35m0.8934\u001b[0m  1.8450\n",
      "     18        0.8008       0.8379        0.9039  1.8490\n",
      "     19        \u001b[36m0.7926\u001b[0m       0.8112        0.9314  1.8474\n",
      "     20        \u001b[36m0.7918\u001b[0m       \u001b[32m0.8482\u001b[0m        0.8938  1.8497\n",
      "Accuracy of Net: 0.94\n",
      "\n",
      "Classification report:\n",
      "              precision    recall  f1-score   support\n",
      "\n",
      "           0       0.86      0.91      0.89      5050\n",
      "           1       0.99      0.99      0.99      5904\n",
      "           2       0.90      0.85      0.87      4912\n",
      "           3       1.00      1.00      1.00      4544\n",
      "\n",
      "   micro avg       0.94      0.94      0.94     20410\n",
      "   macro avg       0.94      0.94      0.94     20410\n",
      "weighted avg       0.94      0.94      0.94     20410\n",
      "\n"
     ]
    },
    {
     "data": {
      "image/png": "[encoded data removed]",
      "text/plain": [
       "<Figure size 720x720 with 1 Axes>"
      ]
     },
     "metadata": {
      "needs_background": "light"
     },
     "output_type": "display_data"
    }
   ],
   "source": [
    "x_train = torch.tensor(all_feature_train_data[:, chosen_features]).float()\n",
    "print(x_train.shape)\n",
    "chosen_feature_model, \\\n",
    "chosen_feature_pred_train, \\\n",
    "chosen_feature_accuracy = train_model(n_features=number_of_chosen_features, \n",
    "                                   n_channels=1, x_train=x_train,\n",
    "           y_train=y_train, n_epochs=20)"
   ]
  },
  {
   "cell_type": "markdown",
   "metadata": {},
   "source": [
    "## Conclusion\n",
    "* We have seen how to produce different types of features: FFT, PCA, and Stats\n",
    "* Pytorch, Scorch, and SKLearn used for Deep Learning\n",
    "* The Value of selecting the less correlated features\n",
    "* Questions ?! "
   ]
  }
 ],
 "metadata": {
  "kernelspec": {
   "display_name": "Python 3",
   "language": "python",
   "name": "python3"
  },
  "language_info": {
   "codemirror_mode": {
    "name": "ipython",
    "version": 3
   },
   "file_extension": ".py",
   "mimetype": "text/x-python",
   "name": "python",
   "nbconvert_exporter": "python",
   "pygments_lexer": "ipython3",
   "version": "3.6.9"
  },
  "varInspector": {
   "cols": {
    "lenName": 16,
    "lenType": 16,
    "lenVar": 40
   },
   "kernels_config": {
    "python": {
     "delete_cmd_postfix": "",
     "delete_cmd_prefix": "del ",
     "library": "var_list.py",
     "varRefreshCmd": "print(var_dic_list())"
    },
    "r": {
     "delete_cmd_postfix": ") ",
     "delete_cmd_prefix": "rm(",
     "library": "var_list.r",
     "varRefreshCmd": "cat(var_dic_list()) "
    }
   },
   "types_to_exclude": [
    "module",
    "function",
    "builtin_function_or_method",
    "instance",
    "_Feature"
   ],
   "window_display": false
  }
 },
 "nbformat": 4,
 "nbformat_minor": 2
}
