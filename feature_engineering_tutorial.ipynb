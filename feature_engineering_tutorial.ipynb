{
 "cells": [
  {
   "cell_type": "code",
   "execution_count": 1,
   "metadata": {},
   "outputs": [],
   "source": [
    "import matplotlib.pyplot as plt\n",
    "import numpy as np\n",
    "from time import localtime, strftime\n",
    "import seaborn as sns\n",
    "import torch\n",
    "import torch.nn as nn\n",
    "import torch.utils.data as torch_data\n",
    "import torch.nn.functional as F\n",
    "import torch.optim as optim\n",
    "import sklearn.preprocessing as preprocess\n",
    "from sklearn import decomposition\n",
    "from sklearn.model_selection import train_test_split\n",
    "from sklearn.metrics import confusion_matrix, classification_report, accuracy_score\n",
    "from sklearn import covariance as cov\n",
    "import pandas as pd\n",
    "from pdb import set_trace as bp\n",
    "%matplotlib inline"
   ]
  },
  {
   "cell_type": "code",
   "execution_count": 2,
   "metadata": {},
   "outputs": [],
   "source": [
    "from skorch import NeuralNetClassifier\n",
    "# from skorch.classifier import NeuralNetBinaryClassifier, CVSplit\n",
    "from skorch.callbacks import EpochScoring"
   ]
  },
  {
   "cell_type": "code",
   "execution_count": 3,
   "metadata": {},
   "outputs": [],
   "source": [
    "data_dir = '/media/l7/data_storage1/datasets/afib_dataset/training2017/'"
   ]
  },
  {
   "cell_type": "markdown",
   "metadata": {},
   "source": [
    "## Main Points: \n",
    "* Feature Engineering\n",
    "* Deep Learning (CNN)\n",
    "* Class imbalance\n",
    "* PyTorch\n",
    "* Scorch\n",
    "* SKLearn\n"
   ]
  },
  {
   "cell_type": "markdown",
   "metadata": {},
   "source": [
    "## Basic Functions\n",
    "\n",
    "In order to begin the feature engineering, we need to first define some of the custom functions which are necessary to work with the dataset. In this case, we have the function that produces the fft features, and the target mapping function."
   ]
  },
  {
   "cell_type": "code",
   "execution_count": 6,
   "metadata": {},
   "outputs": [],
   "source": [
    "\n",
    "def get_fft(data, absolute_value=True):\n",
    "    \"\"\"\n",
    "    Compute the fft for a specific input dataset.\n",
    "    :param data:\n",
    "    :param absolute_value:\n",
    "    :return:\n",
    "    \"\"\"\n",
    "    fft_data = np.fft.fft(data, axis=1) * 1/data.shape[1]\n",
    "    if not absolute_value:\n",
    "        return fft_data\n",
    "    else:\n",
    "        abs_fft_data = abs(fft_data[:,:int(fft_data.shape[1] / 2)])\n",
    "        return abs_fft_data\n",
    "\n",
    "\n",
    "def label_mapping(label):\n",
    "    if label == 'N':\n",
    "        return 0\n",
    "    elif label =='A':\n",
    "        return 1\n",
    "    elif label =='O': \n",
    "        return 2\n",
    "    else: \n",
    "        return 3\n"
   ]
  },
  {
   "cell_type": "markdown",
   "metadata": {},
   "source": [
    "## Load the Data\n",
    "\n",
    "In the case of this tutorial, the data has already been pre-processed and formatted to the desired types and dimensions. Part of the pre-processing included parsing the raw waveforms to a zero padded numpy array, thereby providing a uniform size input matrix for the machine learning experiments. "
   ]
  },
  {
   "cell_type": "code",
   "execution_count": 7,
   "metadata": {},
   "outputs": [
    {
     "data": {
      "text/plain": [
       "array([[-0.127, -0.162, -0.197, ...,  0.   ,  0.   ,  0.   ],\n",
       "       [ 0.128,  0.157,  0.189, ...,  0.   ,  0.   ,  0.   ],\n",
       "       [ 0.056,  0.073,  0.085, ...,  0.   ,  0.   ,  0.   ],\n",
       "       ...,\n",
       "       [-0.202, -0.235, -0.272, ...,  0.   ,  0.   ,  0.   ],\n",
       "       [-0.227, -0.297, -0.374, ...,  0.   ,  0.   ,  0.   ],\n",
       "       [-0.237, -0.286, -0.338, ...,  0.   ,  0.   ,  0.   ]])"
      ]
     },
     "execution_count": 7,
     "metadata": {},
     "output_type": "execute_result"
    }
   ],
   "source": [
    "data_np = np.load(data_dir + 'data_np.npy')\n",
    "labels_np = np.load(data_dir + 'labels.npy')\n",
    "data_np"
   ]
  },
  {
   "cell_type": "code",
   "execution_count": 8,
   "metadata": {},
   "outputs": [
    {
     "data": {
      "text/plain": [
       "array([[-0.127, -0.162, -0.197, ...,  0.   ,  0.   ,  0.   ],\n",
       "       [ 0.128,  0.157,  0.189, ...,  0.   ,  0.   ,  0.   ],\n",
       "       [ 0.056,  0.073,  0.085, ...,  0.   ,  0.   ,  0.   ],\n",
       "       ...,\n",
       "       [ 0.565,  0.676,  0.783, ...,  0.   ,  0.   ,  0.   ],\n",
       "       [-0.039, -0.06 , -0.077, ...,  0.   ,  0.   ,  0.   ],\n",
       "       [-0.268, -0.325, -0.383, ...,  0.   ,  0.   ,  0.   ]])"
      ]
     },
     "execution_count": 8,
     "metadata": {},
     "output_type": "execute_result"
    }
   ],
   "source": [
    "validation_data_np = np.load(data_dir + 'validation_data_np.npy')\n",
    "validation_labels_np = np.load(data_dir + 'validation_labels.npy')\n",
    "validation_data_np"
   ]
  },
  {
   "cell_type": "markdown",
   "metadata": {},
   "source": [
    "## Establish Sample Size\n",
    "\n",
    "By definition, we can classify whether or not a signal is Afib with 30 seconds of information. Therefore, in order to make our input dimensions smaller, let's make sure that we have at most 30 seconds worth of information. Based on the sampling frequency, this means that we will have at most 9000 samples in the input dimension. "
   ]
  },
  {
   "cell_type": "code",
   "execution_count": 9,
   "metadata": {},
   "outputs": [],
   "source": [
    "sample_size = 9000"
   ]
  },
  {
   "cell_type": "markdown",
   "metadata": {},
   "source": [
    "## Scale Data for Processing\n"
   ]
  },
  {
   "cell_type": "code",
   "execution_count": 10,
   "metadata": {},
   "outputs": [],
   "source": [
    "?preprocess.StandardScaler"
   ]
  },
  {
   "cell_type": "code",
   "execution_count": 11,
   "metadata": {},
   "outputs": [],
   "source": [
    "standard_scaler = preprocess.StandardScaler()\n",
    "standard_scaler.fit(data_np[:,:sample_size])\n",
    "processed_data = standard_scaler.transform(data_np[:,:sample_size])"
   ]
  },
  {
   "cell_type": "code",
   "execution_count": 10,
   "metadata": {},
   "outputs": [],
   "source": [
    "standard_scaler = preprocess.StandardScaler()\n",
    "standard_scaler.fit(validation_data_np[:,:sample_size])\n",
    "validation_processed_data = standard_scaler.transform(validation_data_np[:,:sample_size])"
   ]
  },
  {
   "cell_type": "markdown",
   "metadata": {},
   "source": [
    "## Add Helper Functions\n",
    "\n",
    "Below we add a couple of helper functions to aid in the class balancing and data augmentation."
   ]
  },
  {
   "cell_type": "code",
   "execution_count": 12,
   "metadata": {},
   "outputs": [],
   "source": [
    "def add_noise_to_dataset(data, numpy_data=False, \n",
    "                         noise_distribution=None, std=1.0):\n",
    "    \"\"\"\n",
    "    This function adds noise to data array. Noise is added for some specific distribution, with a set\n",
    "    standard deviation.\n",
    "    :param data: numpy array\n",
    "    :param numpy_data: bool, describing whether or not the data is a numpy array (otherwise it will be torch tensor)\n",
    "    :param noise_distribution:\n",
    "    :param std:\n",
    "    :return: numpy array with added noise\n",
    "    \"\"\"\n",
    "    numpy_tensor = False\n",
    "    pytorch_tensor = False\n",
    "    if not numpy_data:\n",
    "        if 'numpy' in str(type(data)):\n",
    "            numpy_tensor = True\n",
    "            data = torch.tensor(data).float()\n",
    "        else:\n",
    "            pytorch_tensor = True\n",
    "\n",
    "    if not noise_distribution:\n",
    "        if numpy_data:\n",
    "            noise_distribution = np.random.randn(data.shape[0], \n",
    "                                                 data.shape[1])\n",
    "            data = data + noise_distribution\n",
    "        else:\n",
    "            noise_distribution = np.random.randn(data.shape[0],\n",
    "                                                 data.shape[1],\n",
    "                                                 data.shape[2])\n",
    "            data = data + torch.tensor(noise_distribution).float().to(data.device)\n",
    "\n",
    "    else:\n",
    "        if numpy_data:\n",
    "            data = data + noise_distribution(scale=std,\n",
    "                                             size=[data.shape[0], \n",
    "                                                   data.shape[1]])\n",
    "        else:\n",
    "            data = data + torch.tensor(\n",
    "                noise_distribution(scale=std, \n",
    "                                   size=[data.shape[0], \n",
    "                                         data.shape[1], \n",
    "                                         data.shape[2]])).float().to(data.device)\n",
    "    if pytorch_tensor:\n",
    "        return data\n",
    "    elif numpy_data:\n",
    "        return data\n",
    "    else:\n",
    "        return data.numpy()"
   ]
  },
  {
   "cell_type": "code",
   "execution_count": 13,
   "metadata": {},
   "outputs": [],
   "source": [
    "def double_class_rows(dataset, labels, class_number=1, \n",
    "                      random_state=1,\n",
    "                     add_noise=False, noise_distribution=None,\n",
    "                      std=1.0):\n",
    "    \"\"\"\n",
    "    This function helps balance by adding (or cloning) observations of a specific type.\n",
    "    :param dataset:\n",
    "    :param labels:\n",
    "    :param class_number:\n",
    "    :param random_state:\n",
    "    :return:\n",
    "    \"\"\"\n",
    "#     bp()\n",
    "    sample_rows = np.where(labels == class_number)\n",
    "    if add_noise:\n",
    "        dataset_new = add_noise_to_dataset(dataset[sample_rows],\n",
    "                                numpy_data=True, \n",
    "                                noise_distribution=noise_distribution, \n",
    "                                std=std)\n",
    "    else:\n",
    "        dataset_new = dataset[sample_rows]\n",
    "    dataset = np.concatenate((dataset, dataset_new))\n",
    "    labels = np.concatenate((labels, labels[sample_rows]))\n",
    "    dataset, x_test, labels, y_test = train_test_split(dataset,\n",
    "                                                      labels,\n",
    "                                                      test_size=0,\n",
    "                                                      random_state=random_state)\n",
    "    print(dataset.shape)\n",
    "    return dataset, labels\n",
    "    "
   ]
  },
  {
   "cell_type": "markdown",
   "metadata": {},
   "source": [
    "Additionally, we also define the funciton which will print out the classification results in a format that is more readable. "
   ]
  },
  {
   "cell_type": "code",
   "execution_count": 14,
   "metadata": {},
   "outputs": [],
   "source": [
    "classes = ['N', 'A', 'O', '~']\n",
    "def plot_confusion_matrix(y_pred, y, prefix_information='',\n",
    "                          dataset_name='', save_results=False,\n",
    "                          y_pred_is_predicted_classes=False):\n",
    "    \"\"\"\n",
    "    PLotting confusion matrix of different datasets (train, test, and validation).\n",
    "    :param y_pred:\n",
    "    :param y:\n",
    "    :param prefix_information:\n",
    "    :param dataset_name:\n",
    "    :param save_results:\n",
    "    :param y_pred_is_predicted_classes:\n",
    "    :return:\n",
    "    \"\"\"\n",
    "    if 'Tensor' in str(type(y)):\n",
    "        y = y.numpy()\n",
    "    c_matrix = confusion_matrix(y, y_pred)\n",
    "    accuracy = accuracy_score(y, y_pred)\n",
    "    result_accuracy_string = \"Accuracy of Net: {:.2f}\".format(accuracy)\n",
    "    print(result_accuracy_string)\n",
    "    print(\"\\nClassification report:\")\n",
    "    classfication_report_string = classification_report(y, y_pred)\n",
    "    print(classfication_report_string)\n",
    "    fig, ax = plt.subplots(1, figsize=(10, 10))\n",
    "    #ax.set_title(dataset_name + \" Confusion matrix\")\n",
    "    ax.set_title(\" Confusion matrix\", fontsize=24)\n",
    "    sns.heatmap(c_matrix, cmap='Blues', \n",
    "                annot=True, xticklabels=classes, \n",
    "                yticklabels=classes, fmt='g', cbar=False)\n",
    "    bottom, top = ax.get_ylim()\n",
    "    ax.set_ylim(bottom + 0.5, top - 0.5)\n",
    "    ax.set_xlabel('predictions', fontsize=22)\n",
    "    ax.set_ylabel('true labels', fontsize=22)\n",
    "    plt.tick_params(labelsize=18)\n",
    "    plt.tight_layout()\n",
    "    # plt.show()\n",
    "    return accuracy\n",
    "    "
   ]
  },
  {
   "cell_type": "markdown",
   "metadata": {},
   "source": [
    "## Define the Machine Learning Model\n",
    "\n",
    "In this tutorial, the emphasis is on the Feature Engineering. As such, the model chosen as a LeNet5 CNN model, whose performance and structure has been well studied and defined. \n",
    "\n",
    "The definition below provides a model that is able to change based on the input dimension, for hyper-parameter optimization and inputs of different dimensions. Note that None of the layers or kernel dimensions have a static value. "
   ]
  },
  {
   "cell_type": "code",
   "execution_count": 15,
   "metadata": {},
   "outputs": [],
   "source": [
    "class LeNet5(nn.Module):\n",
    "    def __init__(self, n_channels, n_features, mid_layer_channels=10,\n",
    "                 C_k_p_s_1=[5, 0, 1], M_k_s_1=[2, 2], C_k_p_s_2=[5, 0, 1],\n",
    "                 M_k_s_2=[2, 2], p=[0.0, 0.0, 0.0, 0.0, 0.0]):\n",
    "        \"\"\"\n",
    "        Replica of a LeNet5 model, with adaptable parameters\n",
    "        :param n_channels: number of channels in the input data\n",
    "        :param n_features: number of features in the input data\n",
    "        :param mid_layer_channels: number of layers which will be produced by the \n",
    "        the middle CNN layer\n",
    "        :param C_k_p_s_1: list containing kernel_size, padding, and stride\n",
    "        :param C_k_p_s_2: list containing kernel_size, padding, and stride \n",
    "        :param M_k_s_1: list containing max pooling kernel_size and stride\n",
    "        :param M_k_s_2: list containing max pooling kernel_size and stride\n",
    "        :param p: dropout layer probabilities\n",
    "        \"\"\"\n",
    "        super(LeNet5, self).__init__()\n",
    "        self.name = 'LetNet5'\n",
    "        self.conv1d_1 = nn.Conv1d(n_channels, mid_layer_channels,\n",
    "                                  kernel_size=C_k_p_s_1[0], padding=C_k_p_s_1[1],\n",
    "                                  stride=C_k_p_s_1[2])\n",
    "        self.relu = nn.ReLU()\n",
    "        self.max_pool_1 = nn.MaxPool1d(kernel_size=M_k_s_1[0],\n",
    "                                       stride=M_k_s_1[1])\n",
    "        current_input_size = \\\n",
    "        (1 + (n_features - C_k_p_s_1[0]\\\n",
    "              + 2 * C_k_p_s_1[1]) / C_k_p_s_1[2]) / M_k_s_1[0]\n",
    "        current_input_size = int(current_input_size)\n",
    "        self.drop_out_1 = nn.Dropout(p=p[0])\n",
    "#         bp()\n",
    "        self.conv1d_2 = nn.Conv1d(mid_layer_channels,\n",
    "                                  2 * mid_layer_channels, \n",
    "                                  kernel_size=C_k_p_s_2[0],\n",
    "                                  padding=C_k_p_s_2[1],\n",
    "                                  stride=C_k_p_s_2[2])\n",
    "        current_input_size = \\\n",
    "        (1 + (current_input_size - C_k_p_s_2[0]\\\n",
    "              + 2 * C_k_p_s_2[1]) / C_k_p_s_2[2]) / M_k_s_1[0]\n",
    "        current_input_size = int(current_input_size)\n",
    "        self.drop_out_2 = nn.Dropout(p=p[1])\n",
    "#         bp()\n",
    "        self.max_pool_2 = nn.MaxPool1d(kernel_size=M_k_s_2[0],\n",
    "                                       stride=M_k_s_2[1])\n",
    "#         bp()\n",
    "        self.fc1 = nn.Linear(2 * mid_layer_channels * current_input_size, 120)\n",
    "        self.drop_out_3 = nn.Dropout(p=p[2])\n",
    "        self.fc2 = nn.Linear(120, 84)\n",
    "        self.drop_out_4 = nn.Dropout(p=p[3])\n",
    "        self.fc3 = nn.Linear(84, 10)\n",
    "        self.drop_out_5 = nn.Dropout(p=p[4])\n",
    "        self.soft_max = nn.Softmax(dim=1)\n",
    "        self.fc4 = nn.Linear(10, 4)\n",
    "        \n",
    "    def forward(self, x):\n",
    "#         bp()\n",
    "        x = x.float()\n",
    "        x = self.max_pool_1(self.relu(self.drop_out_1(self.conv1d_1(x))))\n",
    "        # bp()\n",
    "        x = self.max_pool_2(self.relu(self.drop_out_2(self.conv1d_2(x))))\n",
    "        x = x.view(x.shape[0], x.shape[1] * x.shape[2])\n",
    "        x = self.relu(self.drop_out_3(self.fc1(x)))\n",
    "        x = self.relu(self.drop_out_4(self.fc2(x)))\n",
    "        x = self.relu(self.drop_out_5(self.fc3(x)))\n",
    "        x = self.fc4(x)\n",
    "        x = self.soft_max(x)\n",
    "        return x\n"
   ]
  },
  {
   "cell_type": "markdown",
   "metadata": {},
   "source": [
    "In addition to the model, we must also build on Skorch, to facilitate training. For this purpose we define a custom train_model(.) function which helps with the training. "
   ]
  },
  {
   "cell_type": "code",
   "execution_count": 16,
   "metadata": {},
   "outputs": [],
   "source": [
    "def train_model(n_features, n_channels, x_train, y_train,\n",
    "               device = torch.device('cuda'), model_name = LeNet5.__name__,\n",
    "               model = None, n_epochs = 10):\n",
    "    if model is None:\n",
    "        model = NeuralNetClassifier(module=LeNet5, \n",
    "                                    criterion=nn.CrossEntropyLoss,\n",
    "                                    module__n_channels= n_channels,\n",
    "                                    module__n_features=n_features,\n",
    "                                    optimizer=optim.Adam, \n",
    "                                    optimizer__lr=0.001,\n",
    "                                    max_epochs=n_epochs, \n",
    "                                    batch_size=32,\n",
    "                                    iterator_train__shuffle=True,\n",
    "                                    device=device,\n",
    "                                    warm_start=True,\n",
    "                                   )\n",
    "    model.fit(x_train, y_train, epochs=n_epochs)\n",
    "    pred_train = model.predict(x_train)\n",
    "    accuracy = plot_confusion_matrix(pred_train, y_train, )\n",
    "    return model, pred_train, accuracy\n",
    "    "
   ]
  },
  {
   "cell_type": "code",
   "execution_count": 18,
   "metadata": {},
   "outputs": [],
   "source": [
    "train_data = processed_data\n",
    "#test_data = validation_processed_data\n",
    "labels_train = labels_np\n"
   ]
  },
  {
   "cell_type": "code",
   "execution_count": 17,
   "metadata": {},
   "outputs": [],
   "source": [
    "labels_test = validation_labels_np"
   ]
  },
  {
   "cell_type": "markdown",
   "metadata": {},
   "source": [
    "Below we verify the class distribution in order to consider augmentation and class balancing"
   ]
  },
  {
   "cell_type": "code",
   "execution_count": 19,
   "metadata": {},
   "outputs": [
    {
     "data": {
      "image/png": "[encoded data removed]",
      "text/plain": [
       "<Figure size 1080x720 with 1 Axes>"
      ]
     },
     "metadata": {
      "needs_background": "light"
     },
     "output_type": "display_data"
    }
   ],
   "source": [
    "plt.figure(figsize=(15,10))\n",
    "plt.hist(labels_train)\n",
    "plt.title('Training Labels', fontsize=22)\n",
    "plt.xlabel('Training Classes', fontsize=20)\n",
    "plt.xticks([0, 1, 2, 3])\n",
    "plt.ylabel('Number of Labels', fontsize=20)\n",
    "plt.show()"
   ]
  },
  {
   "cell_type": "code",
   "execution_count": 20,
   "metadata": {},
   "outputs": [
    {
     "name": "stdout",
     "output_type": "stream",
     "text": [
      "(9266, 9000)\n",
      "(9550, 9000)\n",
      "(10118, 9000)\n",
      "(11594, 9000)\n"
     ]
    }
   ],
   "source": [
    "train_data, labels_train = double_class_rows(train_data, labels_np, class_number=1, \n",
    "                                             noise_distribution=np.random.normal, \n",
    "                                             add_noise=True, std=0.1)\n",
    "train_data, labels_train = double_class_rows(train_data, labels_train, class_number=3, \n",
    "                                             noise_distribution=np.random.normal, \n",
    "                                             add_noise=True, std=0.3)\n",
    "train_data, labels_train = double_class_rows(train_data, labels_train, class_number=3, \n",
    "                                             noise_distribution=np.random.normal, \n",
    "                                             add_noise=True, std=0.1)\n",
    "train_data, labels_train = double_class_rows(train_data, labels_train, class_number=1, \n",
    "                                             noise_distribution=np.random.normal, \n",
    "                                             add_noise=True, std=0.1)"
   ]
  },
  {
   "cell_type": "code",
   "execution_count": 21,
   "metadata": {},
   "outputs": [
    {
     "name": "stdout",
     "output_type": "stream",
     "text": [
      "(12730, 9000)\n",
      "(15002, 9000)\n",
      "(17458, 9000)\n",
      "(20410, 9000)\n"
     ]
    }
   ],
   "source": [
    "train_data, labels_train = double_class_rows(train_data, labels_train, class_number=3, \n",
    "                                             noise_distribution=np.random.normal, \n",
    "                                             add_noise=True, std=0.1)\n",
    "train_data, labels_train = double_class_rows(train_data, labels_train, class_number=3, \n",
    "                                             noise_distribution=np.random.normal, \n",
    "                                             add_noise=True, std=0.3)\n",
    "train_data, labels_train = double_class_rows(train_data, labels_train, class_number=2, \n",
    "                                             noise_distribution=np.random.normal, \n",
    "                                             add_noise=True, std=0.1)\n",
    "train_data, labels_train = double_class_rows(train_data, labels_train, class_number=1, \n",
    "                                             noise_distribution=np.random.normal, \n",
    "                                             add_noise=True, std=0.1)"
   ]
  },
  {
   "cell_type": "code",
   "execution_count": 22,
   "metadata": {},
   "outputs": [
    {
     "data": {
      "image/png": "[encoded data removed]",
      "text/plain": [
       "<Figure size 1080x720 with 1 Axes>"
      ]
     },
     "metadata": {
      "needs_background": "light"
     },
     "output_type": "display_data"
    }
   ],
   "source": [
    "plt.figure(figsize=(15,10))\n",
    "plt.hist(labels_train)\n",
    "plt.title('Training Labels', fontsize=22)\n",
    "plt.xlabel('Training Classes', fontsize=20)\n",
    "plt.xticks([0, 1, 2, 3])\n",
    "plt.ylabel('Number of Labels', fontsize=20)\n",
    "plt.show()"
   ]
  },
  {
   "cell_type": "markdown",
   "metadata": {},
   "source": [
    "## Let's Evaluate the Raw Dataset\n",
    "\n",
    "Before we get to the Feature Engineering, let's see how the dataset performs without the dimensionality reduction, or feature engineering. "
   ]
  },
  {
   "cell_type": "code",
   "execution_count": 23,
   "metadata": {},
   "outputs": [],
   "source": [
    "sample_size = 9000"
   ]
  },
  {
   "cell_type": "code",
   "execution_count": 24,
   "metadata": {},
   "outputs": [
    {
     "data": {
      "text/plain": [
       "torch.Size([8528, 1, 9000])"
      ]
     },
     "execution_count": 24,
     "metadata": {},
     "output_type": "execute_result"
    }
   ],
   "source": [
    "x_train = torch.tensor(processed_data[:,:sample_size]).float().unsqueeze(1)\n",
    "y_train = torch.tensor(labels_np).long()\n",
    "x_train.shape"
   ]
  },
  {
   "cell_type": "code",
   "execution_count": 26,
   "metadata": {},
   "outputs": [
    {
     "data": {
      "text/plain": [
       "torch.Size([8528])"
      ]
     },
     "execution_count": 26,
     "metadata": {},
     "output_type": "execute_result"
    }
   ],
   "source": [
    "y_train.shape"
   ]
  },
  {
   "cell_type": "code",
   "execution_count": 27,
   "metadata": {
    "scrolled": false
   },
   "outputs": [
    {
     "name": "stdout",
     "output_type": "stream",
     "text": [
      "  epoch    train_loss    valid_acc    valid_loss     dur\n",
      "-------  ------------  -----------  ------------  ------\n",
      "      1        \u001b[36m1.1531\u001b[0m       \u001b[32m0.5917\u001b[0m        \u001b[35m1.1520\u001b[0m  3.0741\n",
      "      2        \u001b[36m1.1514\u001b[0m       0.5917        1.1520  2.3964\n",
      "      3        1.1514       0.5917        1.1520  2.4132\n",
      "      4        1.1514       0.5917        1.1520  2.4550\n",
      "      5        1.1514       0.5917        1.1520  2.4079\n",
      "      6        \u001b[36m1.1514\u001b[0m       0.5917        1.1520  2.4137\n",
      "      7        1.1514       0.5917        1.1520  2.4125\n",
      "      8        1.1514       0.5917        1.1520  2.4146\n",
      "      9        \u001b[36m1.1514\u001b[0m       0.5917        1.1520  2.4105\n",
      "     10        1.1514       0.5917        1.1520  2.4080\n",
      "     11        1.1514       0.5917        1.1520  2.4427\n",
      "     12        1.1514       0.5917        1.1520  2.4811\n",
      "     13        1.1514       0.5917        1.1520  2.4162\n",
      "     14        1.1514       0.5917        1.1520  2.4151\n",
      "     15        1.1514       0.5917        1.1520  2.4153\n",
      "     16        1.1514       0.5917        1.1520  2.4117\n",
      "     17        1.1514       0.5917        1.1520  2.4190\n",
      "     18        1.1514       0.5917        1.1520  2.4198\n",
      "     19        1.1514       0.5917        1.1520  2.4177\n",
      "     20        1.1514       0.5917        1.1520  2.4169\n",
      "Accuracy of Net: 0.59\n",
      "\n",
      "Classification report:\n",
      "              precision    recall  f1-score   support\n",
      "\n",
      "           0       0.59      1.00      0.74      5050\n",
      "           1       0.00      0.00      0.00       738\n",
      "           2       0.00      0.00      0.00      2456\n",
      "           3       0.00      0.00      0.00       284\n",
      "\n",
      "   micro avg       0.59      0.59      0.59      8528\n",
      "   macro avg       0.15      0.25      0.19      8528\n",
      "weighted avg       0.35      0.59      0.44      8528\n",
      "\n"
     ]
    },
    {
     "name": "stderr",
     "output_type": "stream",
     "text": [
      "/home/l7/dev/tools/anaconda3/lib/python3.6/site-packages/sklearn/metrics/classification.py:1143: UndefinedMetricWarning: Precision and F-score are ill-defined and being set to 0.0 in labels with no predicted samples.\n",
      "  'precision', 'predicted', average, warn_for)\n",
      "/home/l7/dev/tools/anaconda3/lib/python3.6/site-packages/sklearn/metrics/classification.py:1143: UndefinedMetricWarning: Precision and F-score are ill-defined and being set to 0.0 in labels with no predicted samples.\n",
      "  'precision', 'predicted', average, warn_for)\n",
      "/home/l7/dev/tools/anaconda3/lib/python3.6/site-packages/sklearn/metrics/classification.py:1143: UndefinedMetricWarning: Precision and F-score are ill-defined and being set to 0.0 in labels with no predicted samples.\n",
      "  'precision', 'predicted', average, warn_for)\n"
     ]
    },
    {
     "data": {
      "image/png": "[encoded data removed]",
      "text/plain": [
       "<Figure size 720x720 with 1 Axes>"
      ]
     },
     "metadata": {
      "needs_background": "light"
     },
     "output_type": "display_data"
    }
   ],
   "source": [
    "raw_model, \\\n",
    "raw_pred_train, \\\n",
    "raw_accuracy = train_model(n_features=sample_size, n_channels=1, x_train=x_train,\n",
    "           y_train=y_train, n_epochs=20)"
   ]
  },
  {
   "cell_type": "markdown",
   "metadata": {},
   "source": [
    "# Let's Create and Evaluate Features \n",
    "\n",
    "Now the that the data and model are defined, we can start creating features to better evaluate the data, reduce dimension, and possibly find better input combinations for our model. \n",
    "\n",
    "## Let's Start with the  FFT Features \n",
    "\n",
    "We first leverage the function we defined previously, in order to create an FFT dataset. This will be used to evaluate the performance of the fft alone. Eventually, we can also use it to compose a dataset with all features. "
   ]
  },
  {
   "cell_type": "code",
   "execution_count": 28,
   "metadata": {},
   "outputs": [],
   "source": [
    "fft_train_data = get_fft(data=train_data, absolute_value=True)"
   ]
  },
  {
   "cell_type": "code",
   "execution_count": 29,
   "metadata": {},
   "outputs": [
    {
     "data": {
      "text/plain": [
       "(20410, 4500)"
      ]
     },
     "execution_count": 29,
     "metadata": {},
     "output_type": "execute_result"
    }
   ],
   "source": [
    "fft_train_data.shape"
   ]
  },
  {
   "cell_type": "code",
   "execution_count": 30,
   "metadata": {},
   "outputs": [
    {
     "data": {
      "image/png": "[encoded data removed]",
      "text/plain": [
       "<Figure size 432x288 with 1 Axes>"
      ]
     },
     "metadata": {
      "needs_background": "light"
     },
     "output_type": "display_data"
    }
   ],
   "source": [
    "plt.plot(fft_train_data[1,:])\n",
    "plt.show()"
   ]
  },
  {
   "cell_type": "markdown",
   "metadata": {},
   "source": [
    "Let's choose the dimension based on where most of the information is located."
   ]
  },
  {
   "cell_type": "code",
   "execution_count": 31,
   "metadata": {},
   "outputs": [],
   "source": [
    "dimension_size = 1000"
   ]
  },
  {
   "cell_type": "code",
   "execution_count": 32,
   "metadata": {},
   "outputs": [
    {
     "data": {
      "text/plain": [
       "torch.Size([20410, 1, 1000])"
      ]
     },
     "execution_count": 32,
     "metadata": {},
     "output_type": "execute_result"
    }
   ],
   "source": [
    "x_train = torch.tensor(fft_train_data[:,:dimension_size]).float().unsqueeze(1)\n",
    "y_train = torch.tensor(labels_train).long()\n",
    "x_train.shape"
   ]
  },
  {
   "cell_type": "code",
   "execution_count": 33,
   "metadata": {},
   "outputs": [
    {
     "name": "stdout",
     "output_type": "stream",
     "text": [
      "  epoch    train_loss    valid_acc    valid_loss     dur\n",
      "-------  ------------  -----------  ------------  ------\n",
      "      1        \u001b[36m1.3264\u001b[0m       \u001b[32m0.4169\u001b[0m        \u001b[35m1.2844\u001b[0m  1.3189\n",
      "      2        \u001b[36m1.2362\u001b[0m       \u001b[32m0.5396\u001b[0m        \u001b[35m1.1870\u001b[0m  1.2893\n",
      "      3        \u001b[36m1.1742\u001b[0m       \u001b[32m0.5790\u001b[0m        \u001b[35m1.1490\u001b[0m  1.2724\n",
      "      4        \u001b[36m1.1487\u001b[0m       \u001b[32m0.5998\u001b[0m        \u001b[35m1.1265\u001b[0m  1.3279\n",
      "      5        \u001b[36m1.1247\u001b[0m       \u001b[32m0.6182\u001b[0m        \u001b[35m1.1120\u001b[0m  1.3592\n",
      "      6        \u001b[36m1.1070\u001b[0m       \u001b[32m0.6184\u001b[0m        1.1138  1.3300\n",
      "      7        \u001b[36m1.0942\u001b[0m       \u001b[32m0.6211\u001b[0m        \u001b[35m1.1083\u001b[0m  1.3159\n",
      "      8        \u001b[36m1.0810\u001b[0m       \u001b[32m0.6796\u001b[0m        \u001b[35m1.0567\u001b[0m  1.3183\n",
      "      9        \u001b[36m1.0664\u001b[0m       \u001b[32m0.6887\u001b[0m        \u001b[35m1.0510\u001b[0m  1.3406\n",
      "     10        \u001b[36m1.0501\u001b[0m       0.6593        1.0754  1.5730\n",
      "     11        \u001b[36m1.0407\u001b[0m       \u001b[32m0.6997\u001b[0m        \u001b[35m1.0364\u001b[0m  1.3256\n",
      "     12        \u001b[36m1.0402\u001b[0m       0.6990        1.0404  1.3438\n",
      "     13        \u001b[36m1.0255\u001b[0m       \u001b[32m0.7166\u001b[0m        \u001b[35m1.0240\u001b[0m  1.3438\n",
      "     14        \u001b[36m1.0150\u001b[0m       \u001b[32m0.7387\u001b[0m        \u001b[35m1.0022\u001b[0m  1.3157\n",
      "     15        1.0154       0.7218        1.0163  1.3308\n",
      "     16        \u001b[36m1.0087\u001b[0m       \u001b[32m0.7482\u001b[0m        \u001b[35m0.9935\u001b[0m  1.3380\n",
      "     17        \u001b[36m1.0001\u001b[0m       0.7372        1.0035  1.3110\n",
      "     18        \u001b[36m0.9943\u001b[0m       0.7355        1.0061  1.3066\n",
      "     19        \u001b[36m0.9874\u001b[0m       0.6997        1.0374  1.3371\n",
      "     20        \u001b[36m0.9869\u001b[0m       0.7051        1.0330  1.3332\n",
      "Accuracy of Net: 0.71\n",
      "\n",
      "Classification report:\n",
      "              precision    recall  f1-score   support\n",
      "\n",
      "           0       0.80      0.42      0.55      5050\n",
      "           1       0.74      0.85      0.79      5904\n",
      "           2       0.55      0.63      0.59      4912\n",
      "           3       0.80      0.95      0.87      4544\n",
      "\n",
      "   micro avg       0.71      0.71      0.71     20410\n",
      "   macro avg       0.72      0.71      0.70     20410\n",
      "weighted avg       0.72      0.71      0.70     20410\n",
      "\n"
     ]
    },
    {
     "data": {
      "image/png": "[encoded data removed]",
      "text/plain": [
       "<Figure size 720x720 with 1 Axes>"
      ]
     },
     "metadata": {
      "needs_background": "light"
     },
     "output_type": "display_data"
    }
   ],
   "source": [
    "fft_model, \\\n",
    "fft_pred_train, \\\n",
    "fft_accuracy = train_model(n_features=dimension_size, n_channels=1, x_train=x_train,\n",
    "           y_train=y_train, n_epochs=20)"
   ]
  },
  {
   "cell_type": "markdown",
   "metadata": {},
   "source": [
    "## Get PCA Features from the Data\n",
    "\n",
    "Since PCA takes a bit longer to compute, I have already computed and saved the results. However, it should be noted that I am not using a conventional covariance matrix estimator. I am using an estimator which Ledoit and Wolf proposed in 2004. "
   ]
  },
  {
   "cell_type": "raw",
   "metadata": {},
   "source": [
    "data_cov = cov.ledoit_wolf(train_data, assume_centered=True)[0]\n",
    "eigen_values, eigen_vectors = np.linalg.eig(data_cov)"
   ]
  },
  {
   "cell_type": "raw",
   "metadata": {},
   "source": [
    "np.save(data_dir + 'eigen_values_train_data.npy', eigen_values)\n",
    "np.save(data_dir + 'eigen_vectors_train_data.npy', eigen_vectors)"
   ]
  },
  {
   "cell_type": "code",
   "execution_count": 34,
   "metadata": {},
   "outputs": [],
   "source": [
    "eigen_values = np.load(data_dir + 'eigen_values_train_data.npy')\n",
    "eigen_vectors = np.load(data_dir + 'eigen_vectors_train_data.npy')"
   ]
  },
  {
   "cell_type": "code",
   "execution_count": 35,
   "metadata": {
    "scrolled": true
   },
   "outputs": [
    {
     "data": {
      "text/plain": [
       "array([265.99067662, 233.12093062, 224.58136642, 216.98789508,\n",
       "       207.89369565, 197.99583933, 194.31305368, 185.24048371,\n",
       "       175.9470432 , 164.90702642, 162.48099954, 156.0084501 ,\n",
       "       152.56264761, 148.11207552, 138.75272835, 137.2488755 ,\n",
       "       134.28607368, 127.47430857, 123.91734177, 120.40903987,\n",
       "       116.92804975, 115.21266283, 111.67552273, 108.63073822,\n",
       "       105.35443608, 102.56002802, 100.80476209,  98.57483985,\n",
       "        94.0839849 ,  92.77847091,  91.7200277 ,  89.34395537,\n",
       "        87.6102854 ,  86.58681695,  85.54485854,  83.02607182,\n",
       "        82.36399179,  81.21259923,  78.80992329,  77.07841767,\n",
       "        76.17337733,  74.30752101,  70.63265056,  69.77396145,\n",
       "        68.49291836,  67.31110986,  66.46066344,  65.37077389,\n",
       "        63.50297544,  62.62109491,  61.61133031,  58.62286958,\n",
       "        58.12006415,  57.21176811,  55.95512539,  55.6774056 ,\n",
       "        55.27750717,  54.31227912,  53.42848673,  52.63831566,\n",
       "        50.99019528,  50.06353971,  49.64878393,  49.05727309,\n",
       "        47.99671372,  47.1039433 ,  46.12188348,  45.64499227,\n",
       "        44.32049344,  43.43039393,  43.05149888,  41.8650747 ,\n",
       "        41.1261723 ,  40.55003398,  39.89213046,  39.07376964,\n",
       "        38.79974792,  38.441351  ,  37.69203388,  36.9786924 ,\n",
       "        36.23326473,  35.58430798,  34.96830426,  34.8410347 ,\n",
       "        34.04766478,  33.24778296,  32.95457459,  32.68512698,\n",
       "        32.27133217,  31.70953915,  31.34414273,  31.12345346,\n",
       "        30.53960366,  30.24656082,  30.07445724,  29.7235755 ,\n",
       "        28.40385591,  28.22075504,  27.87591771,  26.8081582 ,\n",
       "        26.44061048,  26.2768249 ,  25.90600053,  25.74578713,\n",
       "        25.56177717,  24.97726792,  24.64888454,  24.12062116,\n",
       "        23.92934513,  23.62930266,  23.54943805,  23.16287629,\n",
       "        22.90839023,  22.74100785,  22.44611758,  22.05088277,\n",
       "        21.59647458,  21.46843177,  21.43892547,  21.08760862,\n",
       "        20.65754027,  20.55698538,  20.24053095,  19.9236586 ,\n",
       "        19.7714042 ,  19.71762603,  19.28522167,  19.06918303,\n",
       "        18.78151489,  18.32280089,  18.20486041,  18.04838096,\n",
       "        17.86403338,  17.83370005,  17.74532146,  17.59173127,\n",
       "        17.39243796,  17.25657643,  17.01917373,  16.81787691,\n",
       "        16.66451775,  16.5346597 ,  16.41334689,  16.29481533,\n",
       "        16.2544636 ,  16.04464802,  15.9096856 ,  15.88195543,\n",
       "        15.70227156,  15.55174624,  15.32929817,  15.18277608,\n",
       "        14.95899739,  14.78048826,  14.60160191,  14.48880643,\n",
       "        14.37189091,  14.21632109,  14.09668448,  14.03584727,\n",
       "        13.93398818,  13.81773893,  13.73352075,  13.65600451,\n",
       "        13.5071281 ,  13.44315336,  13.40680458,  13.26546267,\n",
       "        13.21800166,  13.16234012,  13.02352427,  12.94329464,\n",
       "        12.91521293,  12.69409578,  12.57828794,  12.52998295,\n",
       "        12.4636817 ,  12.40533748,  12.32604278,  12.28843865,\n",
       "        12.21141408,  12.08056154,  11.96223642,  11.91292357,\n",
       "        11.80116583,  11.78276126,  11.66181547,  11.60750896,\n",
       "        11.52869327,  11.39439807,  11.31850825,  11.28429484,\n",
       "        11.20367017,  11.07914332,  11.04497663,  11.00914853,\n",
       "        10.97346426,  10.8360798 ,  10.82114672,  10.75803477,\n",
       "        10.66350066,  10.57286163,  10.46103175,  10.43719582,\n",
       "        10.40834806,  10.34637733,  10.30715891,  10.23483973,\n",
       "        10.20848484,  10.16284695,  10.09692933,  10.03066532,\n",
       "         9.9910978 ,   9.95511405,   9.87976317,   9.85021411,\n",
       "         9.73376539,   9.68686756,   9.61534919,   9.53043864,\n",
       "         9.48565619,   9.45479308,   9.42741699,   9.39294838,\n",
       "         9.33541402,   9.30646205,   9.25686333,   9.18950526,\n",
       "         9.17470541,   9.13602696,   9.12716494,   9.02621969,\n",
       "         8.94816636,   8.93704803,   8.90499115,   8.83625254,\n",
       "         8.75921274,   8.73736886,   8.70057441,   8.67049702,\n",
       "         8.63761226,   8.59016478,   8.55241247,   8.53928413,\n",
       "         8.44711176,   8.43117718,   8.36194356,   8.34502744,\n",
       "         8.30600745,   8.27635427,   8.25781445,   8.18256012,\n",
       "         8.13748144,   8.10957865,   8.05951914,   8.05096499,\n",
       "         7.96650887,   7.94664345,   7.91806032,   7.86367122,\n",
       "         7.8404131 ,   7.82168034,   7.82424199,   7.80362743,\n",
       "         7.72285209,   7.70294386,   7.63654692,   7.62111012,\n",
       "         7.60106661,   7.51354184,   7.5070845 ,   7.4852111 ,\n",
       "         7.43477654,   7.4024908 ,   7.3786985 ,   7.33476571,\n",
       "         7.30310612,   7.28584794,   7.28210337,   7.24665403,\n",
       "         7.17207746,   7.12919614,   7.09110906,   7.07216116,\n",
       "         7.04298153,   7.00589413,   6.9847263 ,   6.94312203,\n",
       "         6.91392607,   6.86846023,   6.83798225,   6.81154851,\n",
       "         6.79362922,   6.76798491,   6.74201992,   6.72735428,\n",
       "         6.69583937,   6.66509994,   6.61721288,   6.5687256 ,\n",
       "         6.55818287,   6.53402551,   6.52544226,   6.4917506 ,\n",
       "         6.45498408,   6.40686834,   6.3973656 ,   6.38348739,\n",
       "         6.3581385 ,   6.31353912,   6.28418692,   6.25895389,\n",
       "         6.24187253,   6.21141443,   6.19929288,   6.16374214,\n",
       "         6.13238573,   6.11245448,   6.0798505 ,   6.04790619,\n",
       "         6.03742562,   5.99338429,   5.97906348,   5.96352949,\n",
       "         5.96492306,   5.91729978,   5.89376458,   5.87127275,\n",
       "         5.85695707,   5.81291052,   5.8064208 ,   5.79633915,\n",
       "         5.78157305,   5.74140708,   5.71490163,   5.69908666,\n",
       "         5.6681414 ,   5.64676798,   5.64182042,   5.60113459,\n",
       "         5.58323753,   5.56318686,   5.55917395,   5.52709401,\n",
       "         5.51929755,   5.49102769,   5.46240506,   5.45467579,\n",
       "         5.4316367 ,   5.42380888,   5.40931111,   5.37875402,\n",
       "         5.37577341,   5.34591053,   5.32594038,   5.28045763,\n",
       "         5.26782527,   5.23978027,   5.21943588,   5.20406842,\n",
       "         5.19496706,   5.17459487,   5.1486312 ,   5.13325303,\n",
       "         5.11810594,   5.11004052,   5.08289497,   5.07545283,\n",
       "         5.06252394,   5.03475257,   5.01725808,   5.00850932,\n",
       "         4.98530609,   4.97909078,   4.95105899,   4.94287438,\n",
       "         4.93271524,   4.92286192,   4.90282615,   4.89340285,\n",
       "         4.86370982,   4.85433327,   4.83040321,   4.82489198,\n",
       "         4.7958114 ,   4.78411995,   4.75928677,   4.74535372,\n",
       "         4.71418819,   4.7033541 ,   4.69267725,   4.67635493,\n",
       "         4.66188007,   4.65628304,   4.62357428,   4.61610396,\n",
       "         4.59150928,   4.57195034,   4.56784615,   4.55064734,\n",
       "         4.53560296,   4.52582379,   4.50744494,   4.50344722,\n",
       "         4.49723181,   4.47515371,   4.46219249,   4.44700051,\n",
       "         4.42405546,   4.40008168,   4.39160905,   4.37867937,\n",
       "         4.37309262,   4.36985476,   4.33207827,   4.32593907,\n",
       "         4.30948179,   4.31093268,   4.29957502,   4.27955029,\n",
       "         4.26366961,   4.25730275,   4.23425286,   4.22119976,\n",
       "         4.20688992,   4.20310379,   4.19053399,   4.18460912,\n",
       "         4.16210486,   4.1479839 ,   4.14067653,   4.12479565,\n",
       "         4.11690209,   4.09847423,   4.09608992,   4.08543007,\n",
       "         4.06641098,   4.05058453,   4.04336621,   4.03484422,\n",
       "         4.01585594,   4.00515766,   3.99176018,   3.98212551,\n",
       "         3.96586808,   3.9556503 ,   3.93880716,   3.92303075,\n",
       "         3.91642442,   3.90642026,   3.8934153 ,   3.87745215,\n",
       "         3.86837269,   3.8611134 ,   3.85082731,   3.8434975 ,\n",
       "         3.83301307,   3.81825683,   3.80172685,   3.78661322,\n",
       "         3.77478294,   3.76077248,   3.75568884,   3.74556192,\n",
       "         3.73926131,   3.73160718,   3.71696963,   3.69475166,\n",
       "         3.68306508,   3.6707644 ,   3.66163928,   3.64165053,\n",
       "         3.63253962,   3.62142829,   3.61596934,   3.60973569,\n",
       "         3.59198281,   3.57445338,   3.57229422,   3.56136936,\n",
       "         3.55659237,   3.53889944,   3.53245316,   3.52188912,\n",
       "         3.51548967,   3.50750547,   3.49134219,   3.48713589,\n",
       "         3.48373492,   3.46603808,   3.45850077,   3.45079243,\n",
       "         3.44568312,   3.43145812,   3.41321873,   3.39899332,\n",
       "         3.39364591,   3.37855611,   3.3720738 ,   3.35263931,\n",
       "         3.34717863,   3.3403753 ,   3.33232616,   3.32792595,\n",
       "         3.31500332,   3.31110856,   3.30149535,   3.28877241,\n",
       "         3.28240396,   3.27351431,   3.26409066,   3.25814604,\n",
       "         3.24465563,   3.24045885,   3.22731753,   3.21703545,\n",
       "         3.21323078,   3.20273406,   3.19349946,   3.18547353,\n",
       "         3.17381145,   3.16318424,   3.15379485,   3.14439131,\n",
       "         3.13371061,   3.12912726,   3.12013791,   3.11381689,\n",
       "         3.09346053,   3.08537766,   3.07866834,   3.07054432,\n",
       "         3.06593534,   3.06081316,   3.05125689,   3.0429062 ,\n",
       "         3.02603674,   3.01944827,   3.00768719,   3.00378465,\n",
       "         3.00049608,   2.99548477,   2.98685582,   2.98329778,\n",
       "         2.97348241,   2.97021248,   2.95594961,   2.9436985 ,\n",
       "         2.9351579 ,   2.92976149,   2.92310854,   2.90954649,\n",
       "         2.9035436 ,   2.8979434 ,   2.89202111,   2.88155297,\n",
       "         2.87532974,   2.86447451,   2.86061177,   2.8490239 ,\n",
       "         2.84130949,   2.83447301,   2.82767366,   2.81705053,\n",
       "         2.80908233,   2.80109898,   2.79756146,   2.78705853,\n",
       "         2.78314491,   2.77454106,   2.77096839,   2.76551655,\n",
       "         2.75787518,   2.74916938,   2.74432033,   2.73761786,\n",
       "         2.72627814,   2.72236521,   2.71072144,   2.70765662,\n",
       "         2.7036297 ,   2.68653181,   2.68441534,   2.67725731,\n",
       "         2.67102598,   2.66813829,   2.65891826,   2.65336289,\n",
       "         2.64921662,   2.64271532,   2.63216938,   2.62989506,\n",
       "         2.61997643,   2.60900196,   2.59632018,   2.58902172,\n",
       "         2.58205257,   2.57777644,   2.57348256,   2.56821587,\n",
       "         2.5626109 ,   2.55742704,   2.5484847 ,   2.54269442,\n",
       "         2.5326578 ,   2.52930755,   2.5223922 ,   2.51748543,\n",
       "         2.51226188,   2.50577767,   2.50198952,   2.49172611,\n",
       "         2.48664854,   2.48083771,   2.47337673,   2.45874883,\n",
       "         2.4595824 ,   2.45137818,   2.44804138,   2.44008767,\n",
       "         2.43709644,   2.42947118,   2.42209264,   2.41848892,\n",
       "         2.41204623,   2.40164118,   2.40392063,   2.39086546,\n",
       "         2.38195331,   2.37807928,   2.37372815,   2.36947765,\n",
       "         2.35598972,   2.35374691,   2.35304187,   2.34689542,\n",
       "         2.34258654,   2.33448137,   2.32482369,   2.31401716,\n",
       "         2.30991319,   2.30555246,   2.29271171,   2.29680246,\n",
       "         2.285914  ,   2.2818374 ,   2.27368115,   2.27102239,\n",
       "         2.26707403,   2.26217317,   2.25831298,   2.25471393,\n",
       "         2.24948359,   2.23731925,   2.23063694,   2.22141849,\n",
       "         2.21761668,   2.21425196,   2.21129026,   2.20536717,\n",
       "         2.20048029,   2.1915384 ,   2.19094764,   2.18047971,\n",
       "         2.17848493,   2.17046646,   2.16278324,   2.15887747,\n",
       "         2.14935269,   2.14222469,   2.14399929,   2.14538218,\n",
       "         2.1352083 ,   2.12990031,   2.12254412,   2.11489064,\n",
       "         2.10977092,   2.10518917,   2.09899745,   2.09164506,\n",
       "         2.0888617 ,   2.08021559,   2.07629177,   2.07228482,\n",
       "         2.07073947,   2.0656571 ,   2.065464  ,   2.05425025,\n",
       "         2.04849497,   2.04820611,   2.0430149 ,   2.03190367,\n",
       "         2.02737126,   2.02507498,   2.01805929,   2.01233155,\n",
       "         2.00957669,   2.00006901,   1.9990644 ,   1.99671919,\n",
       "         1.98765904,   1.98492328,   1.98018329,   1.97785828,\n",
       "         1.97070049,   1.96768817,   1.96493991,   1.96196593,\n",
       "         1.95120929,   1.95056959,   1.94158415,   1.93615168,\n",
       "         1.93500617,   1.92760055,   1.92013945,   1.92178188,\n",
       "         1.92261025,   1.91055264,   1.90833493,   1.90258549,\n",
       "         1.89490685,   1.88989686,   1.88644132,   1.88089671,\n",
       "         1.87693684,   1.87431997,   1.86946855,   1.86463791,\n",
       "         1.8564    ,   1.85550603,   1.85079237,   1.85032518,\n",
       "         1.84135949,   1.83758454,   1.82943528,   1.82807094,\n",
       "         1.82531733,   1.81852803,   1.81510056,   1.81397371,\n",
       "         1.80652292,   1.79923961,   1.79601877,   1.79254248,\n",
       "         1.7899975 ,   1.7812361 ,   1.77709421,   1.77375441,\n",
       "         1.77003458,   1.76652259,   1.76451455,   1.75691231,\n",
       "         1.75564846,   1.74729712,   1.74540062,   1.74189606,\n",
       "         1.73533101,   1.73152198,   1.72687869,   1.72600161,\n",
       "         1.72188508,   1.71776805,   1.71144045,   1.70468988,\n",
       "         1.70135045,   1.69523797,   1.69120815,   1.6869748 ,\n",
       "         1.68413907,   1.67987585,   1.67461016,   1.6702856 ,\n",
       "         1.66255409,   1.66056488,   1.65855788,   1.65584042,\n",
       "         1.65211439,   1.64786801,   1.64493086,   1.63975355,\n",
       "         1.63381045,   1.63087975,   1.6281531 ,   1.62456466,\n",
       "         1.62124701,   1.61662881,   1.61144804,   1.60714651,\n",
       "         1.60132462,   1.59743425,   1.59488456,   1.59143812,\n",
       "         1.58520125,   1.58285301,   1.57733063,   1.57392481,\n",
       "         1.56991135,   1.56563098,   1.56293184,   1.5601936 ,\n",
       "         1.55967465,   1.55535686,   1.55240905,   1.54886082,\n",
       "         1.54701473,   1.53973116,   1.53711787,   1.53372618,\n",
       "         1.52896699,   1.52231556,   1.52052054,   1.51843126,\n",
       "         1.5163328 ,   1.50885633,   1.50530557,   1.50373988,\n",
       "         1.50165946,   1.49856831,   1.49547221,   1.49257448,\n",
       "         1.48696329,   1.48406524,   1.47896953,   1.47711824,\n",
       "         1.47426059,   1.47008248,   1.465925  ,   1.46314542,\n",
       "         1.46057324,   1.46097695,   1.45351567,   1.4463618 ,\n",
       "         1.44405685,   1.43961317,   1.43745477,   1.42920356,\n",
       "         1.42659279,   1.42529118,   1.42038408,   1.41644361,\n",
       "         1.41549455,   1.41046074,   1.40949051,   1.40802754,\n",
       "         1.40182305,   1.39865107,   1.39456658,   1.39251453,\n",
       "         1.39027037,   1.38528638,   1.38007957,   1.37943455,\n",
       "         1.37388793,   1.37340992,   1.37168366,   1.36784603,\n",
       "         1.35966283,   1.3574257 ,   1.35485383,   1.35366257,\n",
       "         1.34610722,   1.34594446,   1.3413406 ,   1.33620171,\n",
       "         1.33733099,   1.32950189,   1.32944697,   1.3251034 ,\n",
       "         1.32121609,   1.31453034,   1.31181208,   1.30744397,\n",
       "         1.30611412,   1.30272217,   1.29922081,   1.29765253,\n",
       "         1.29368626,   1.29221855,   1.2897776 ,   1.28810661,\n",
       "         1.28705411,   1.28352279,   1.28007529,   1.27646303,\n",
       "         1.27328994,   1.26979394,   1.26836024,   1.26246166,\n",
       "         1.25766374,   1.25372171,   1.2524652 ,   1.24835221,\n",
       "         1.24424785,   1.24184783,   1.24001864,   1.23705736,\n",
       "         1.23508124,   1.23333921,   1.22937051,   1.22491717,\n",
       "         1.22248244,   1.2203358 ,   1.21779475,   1.21595596,\n",
       "         1.21192785,   1.20920028,   1.20776099,   1.20621952,\n",
       "         1.19983332,   1.19655824,   1.19381796,   1.19219034,\n",
       "         1.18990127,   1.18577154,   1.18274669,   1.18333071,\n",
       "         1.17576594,   1.17194044,   1.16800154,   1.1648441 ,\n",
       "         1.16379923,   1.15888866,   1.15770857,   1.1539006 ,\n",
       "         1.15136658,   1.1481336 ,   1.14376567,   1.14184299,\n",
       "         1.14113866,   1.13907554,   1.13606028,   1.13399114,\n",
       "         1.13177534,   1.13011218,   1.12828176,   1.12283211,\n",
       "         1.12005214,   1.11614952,   1.11430693,   1.11214219,\n",
       "         1.10895588,   1.10799663,   1.10489147,   1.1021461 ,\n",
       "         1.10018067,   1.09964909,   1.09559435,   1.09243837,\n",
       "         1.09162311,   1.08840446,   1.08978183,   1.08362223,\n",
       "         1.08144906,   1.07659072,   1.07512682,   1.07320025,\n",
       "         1.06857025,   1.0673852 ,   1.06377921,   1.05922474,\n",
       "         1.05526704,   1.05203884,   1.05024126,   1.04843626,\n",
       "         1.04622009,   1.04266644,   1.03799658,   1.03678109,\n",
       "         1.03535935,   1.03382463,   1.0315048 ,   1.02923953,\n",
       "         1.02605398,   1.02485567,   1.02213956,   1.02155165,\n",
       "         1.01697411,   1.014616  ,   1.0123475 ,   1.00877217,\n",
       "         1.00570619,   1.00333123,   1.00271343,   0.99956915,\n",
       "         0.99494024,   0.99340599,   0.98920517,   0.98872369,\n",
       "         0.98800153,   0.98565263,   0.97975344,   0.98059842,\n",
       "         0.97837561,   0.97566026,   0.9702658 ,   0.9697093 ,\n",
       "         0.96487352,   0.96266917,   0.96153867,   0.9596096 ])"
      ]
     },
     "execution_count": 35,
     "metadata": {},
     "output_type": "execute_result"
    }
   ],
   "source": [
    "eigen_values[:dimension_size]"
   ]
  },
  {
   "cell_type": "code",
   "execution_count": 36,
   "metadata": {},
   "outputs": [
    {
     "data": {
      "text/plain": [
       "(20410, 1000)"
      ]
     },
     "execution_count": 36,
     "metadata": {},
     "output_type": "execute_result"
    }
   ],
   "source": [
    "pca_train_data = train_data.dot(eigen_vectors[:,:dimension_size])\n",
    "pca_train_data.shape"
   ]
  },
  {
   "cell_type": "code",
   "execution_count": 37,
   "metadata": {},
   "outputs": [
    {
     "name": "stdout",
     "output_type": "stream",
     "text": [
      "torch.Size([20410, 1, 1000])\n",
      "  epoch    train_loss    valid_acc    valid_loss     dur\n",
      "-------  ------------  -----------  ------------  ------\n",
      "      1        \u001b[36m1.1516\u001b[0m       \u001b[32m0.6387\u001b[0m        \u001b[35m1.0890\u001b[0m  1.4004\n",
      "      2        \u001b[36m1.0655\u001b[0m       \u001b[32m0.6970\u001b[0m        \u001b[35m1.0433\u001b[0m  1.3644\n",
      "      3        \u001b[36m1.0170\u001b[0m       \u001b[32m0.7392\u001b[0m        \u001b[35m1.0045\u001b[0m  1.3342\n",
      "      4        \u001b[36m0.9707\u001b[0m       0.7014        1.0329  1.2937\n",
      "      5        \u001b[36m0.9423\u001b[0m       \u001b[32m0.7512\u001b[0m        \u001b[35m0.9923\u001b[0m  1.3153\n",
      "      6        \u001b[36m0.9138\u001b[0m       \u001b[32m0.7864\u001b[0m        \u001b[35m0.9549\u001b[0m  1.3146\n",
      "      7        \u001b[36m0.8998\u001b[0m       \u001b[32m0.8028\u001b[0m        \u001b[35m0.9415\u001b[0m  1.2848\n",
      "      8        \u001b[36m0.8863\u001b[0m       0.7979        0.9445  1.3174\n",
      "      9        \u001b[36m0.8742\u001b[0m       0.7952        0.9461  1.3078\n",
      "     10        \u001b[36m0.8694\u001b[0m       0.7886        0.9541  1.2945\n",
      "     11        \u001b[36m0.8630\u001b[0m       \u001b[32m0.8070\u001b[0m        \u001b[35m0.9342\u001b[0m  1.3215\n",
      "     12        \u001b[36m0.8574\u001b[0m       \u001b[32m0.8104\u001b[0m        \u001b[35m0.9319\u001b[0m  1.2915\n",
      "     13        \u001b[36m0.8517\u001b[0m       0.7989        0.9422  1.3207\n",
      "     14        \u001b[36m0.8475\u001b[0m       \u001b[32m0.8119\u001b[0m        \u001b[35m0.9301\u001b[0m  1.3511\n",
      "     15        \u001b[36m0.8402\u001b[0m       0.8041        0.9375  1.6386\n",
      "     16        0.8422       0.8107        0.9306  1.5399\n",
      "     17        0.8413       \u001b[32m0.8200\u001b[0m        \u001b[35m0.9220\u001b[0m  1.3522\n",
      "     18        0.8514       0.8190        0.9231  1.3419\n",
      "     19        0.8434       0.8058        0.9368  1.3507\n",
      "     20        0.8465       0.7705        0.9716  1.3209\n",
      "Accuracy of Net: 0.82\n",
      "\n",
      "Classification report:\n",
      "              precision    recall  f1-score   support\n",
      "\n",
      "           0       0.64      0.91      0.75      5050\n",
      "           1       0.96      0.89      0.92      5904\n",
      "           2       0.86      0.52      0.64      4912\n",
      "           3       0.89      0.95      0.92      4544\n",
      "\n",
      "   micro avg       0.82      0.82      0.82     20410\n",
      "   macro avg       0.84      0.82      0.81     20410\n",
      "weighted avg       0.84      0.82      0.81     20410\n",
      "\n"
     ]
    },
    {
     "data": {
      "image/png": "[encoded data removed]",
      "text/plain": [
       "<Figure size 720x720 with 1 Axes>"
      ]
     },
     "metadata": {
      "needs_background": "light"
     },
     "output_type": "display_data"
    }
   ],
   "source": [
    "x_train = torch.tensor(pca_train_data).float().unsqueeze(1)\n",
    "print(x_train.shape)\n",
    "pca_model, \\\n",
    "pca_pred_train, \\\n",
    "pca_accuracy = train_model(n_features=dimension_size, n_channels=1, x_train=x_train,\n",
    "           y_train=y_train, n_epochs=20)"
   ]
  },
  {
   "cell_type": "markdown",
   "metadata": {},
   "source": [
    "## Get Statistical Features"
   ]
  },
  {
   "cell_type": "code",
   "execution_count": 38,
   "metadata": {},
   "outputs": [
    {
     "data": {
      "text/plain": [
       "(20410, 5)"
      ]
     },
     "execution_count": 38,
     "metadata": {},
     "output_type": "execute_result"
    }
   ],
   "source": [
    "stat_train_data = np.zeros([train_data.shape[0], 5])\n",
    "stat_train_data[:, 0] += np.max(train_data, axis=1)\n",
    "stat_train_data[:, 1] += np.min(train_data, axis=1)\n",
    "stat_train_data[:, 2] += np.mean(train_data, axis=1)\n",
    "stat_train_data[:, 3] += np.median(train_data, axis=1)\n",
    "stat_train_data[:, 4] += np.std(train_data, axis=1)\n",
    "stat_train_data.shape"
   ]
  },
  {
   "cell_type": "code",
   "execution_count": 39,
   "metadata": {},
   "outputs": [
    {
     "data": {
      "text/plain": [
       "array([ 3.85051408, -2.08242993, -0.00409358, -0.10331411,  0.67377406])"
      ]
     },
     "execution_count": 39,
     "metadata": {},
     "output_type": "execute_result"
    }
   ],
   "source": [
    "stat_train_data[0]"
   ]
  },
  {
   "cell_type": "markdown",
   "metadata": {},
   "source": [
    "## Build Input Data with Concatenated Features\n",
    "\n",
    "Here, we concatenate the features, in order to produce an input dataset that contains the all features"
   ]
  },
  {
   "cell_type": "code",
   "execution_count": 40,
   "metadata": {},
   "outputs": [],
   "source": [
    "train_input_dimension = dimension_size\\\n",
    "                        + dimension_size\\\n",
    "                        + stat_train_data.shape[1]\n",
    "all_feature_train_data = np.zeros([train_data.shape[0], train_input_dimension])"
   ]
  },
  {
   "cell_type": "code",
   "execution_count": 41,
   "metadata": {},
   "outputs": [],
   "source": [
    "all_feature_train_data[:,:stat_train_data.shape[1]] += stat_train_data\n",
    "all_feature_train_data[:,stat_train_data.shape[1]:stat_train_data.shape[1]\\\n",
    "                       + dimension_size] += pca_train_data\n",
    "all_feature_train_data[:,stat_train_data.shape[1]\\\n",
    "                       + dimension_size:stat_train_data.shape[1]\\\n",
    "                       + 2 * dimension_size] += fft_train_data[:,:dimension_size]"
   ]
  },
  {
   "cell_type": "code",
   "execution_count": 42,
   "metadata": {},
   "outputs": [
    {
     "name": "stdout",
     "output_type": "stream",
     "text": [
      "torch.Size([20410, 1, 2005])\n",
      "  epoch    train_loss    valid_acc    valid_loss     dur\n",
      "-------  ------------  -----------  ------------  ------\n",
      "      1        \u001b[36m1.1798\u001b[0m       \u001b[32m0.6253\u001b[0m        \u001b[35m1.1157\u001b[0m  1.8833\n",
      "      2        \u001b[36m1.1112\u001b[0m       \u001b[32m0.6397\u001b[0m        \u001b[35m1.0990\u001b[0m  1.7774\n",
      "      3        \u001b[36m1.0798\u001b[0m       \u001b[32m0.6642\u001b[0m        \u001b[35m1.0756\u001b[0m  1.7755\n",
      "      4        \u001b[36m1.0601\u001b[0m       \u001b[32m0.6838\u001b[0m        \u001b[35m1.0613\u001b[0m  1.8090\n",
      "      5        \u001b[36m1.0396\u001b[0m       \u001b[32m0.7032\u001b[0m        \u001b[35m1.0407\u001b[0m  1.9745\n",
      "      6        \u001b[36m1.0034\u001b[0m       \u001b[32m0.7110\u001b[0m        \u001b[35m1.0220\u001b[0m  1.7828\n",
      "      7        \u001b[36m0.9665\u001b[0m       \u001b[32m0.7686\u001b[0m        \u001b[35m0.9681\u001b[0m  1.7780\n",
      "      8        \u001b[36m0.9346\u001b[0m       0.7612        0.9771  1.7740\n",
      "      9        \u001b[36m0.9104\u001b[0m       \u001b[32m0.7815\u001b[0m        \u001b[35m0.9608\u001b[0m  1.7777\n",
      "     10        \u001b[36m0.8919\u001b[0m       0.7558        0.9821  1.7672\n",
      "     11        \u001b[36m0.8755\u001b[0m       \u001b[32m0.8043\u001b[0m        \u001b[35m0.9378\u001b[0m  1.7805\n",
      "     12        \u001b[36m0.8651\u001b[0m       0.8014        0.9407  1.7893\n",
      "     13        \u001b[36m0.8579\u001b[0m       \u001b[32m0.8117\u001b[0m        \u001b[35m0.9316\u001b[0m  1.7721\n",
      "     14        \u001b[36m0.8537\u001b[0m       0.8085        0.9324  1.7783\n",
      "     15        0.8569       0.7979        0.9443  1.7919\n",
      "     16        \u001b[36m0.8516\u001b[0m       0.7862        0.9543  1.7969\n",
      "     17        \u001b[36m0.8465\u001b[0m       0.7806        0.9612  1.7905\n",
      "     18        0.8487       \u001b[32m0.8185\u001b[0m        \u001b[35m0.9237\u001b[0m  1.9691\n",
      "     19        \u001b[36m0.8461\u001b[0m       0.7982        0.9441  1.8074\n",
      "     20        \u001b[36m0.8417\u001b[0m       0.8180        0.9239  1.7974\n",
      "Accuracy of Net: 0.89\n",
      "\n",
      "Classification report:\n",
      "              precision    recall  f1-score   support\n",
      "\n",
      "           0       0.80      0.85      0.82      5050\n",
      "           1       0.97      0.95      0.96      5904\n",
      "           2       0.83      0.79      0.81      4912\n",
      "           3       0.97      0.96      0.97      4544\n",
      "\n",
      "   micro avg       0.89      0.89      0.89     20410\n",
      "   macro avg       0.89      0.89      0.89     20410\n",
      "weighted avg       0.89      0.89      0.89     20410\n",
      "\n"
     ]
    },
    {
     "data": {
      "image/png": "[encoded data removed]",
      "text/plain": [
       "<Figure size 720x720 with 1 Axes>"
      ]
     },
     "metadata": {
      "needs_background": "light"
     },
     "output_type": "display_data"
    }
   ],
   "source": [
    "x_train = torch.tensor(all_feature_train_data).float().unsqueeze(1)\n",
    "print(x_train.shape)\n",
    "all_feature_model, \\\n",
    "all_feature_pred_train, \\\n",
    "all_feature_accuracy = train_model(n_features=train_input_dimension, \n",
    "                                   n_channels=1, x_train=x_train,\n",
    "           y_train=y_train, n_epochs=20)"
   ]
  },
  {
   "cell_type": "markdown",
   "metadata": {},
   "source": [
    "## Verifying Feature Correlations\n",
    "\n",
    "Now, we evaluate the feature correlations in order to further reduce our dimensions, and hopefully achieve a better performance"
   ]
  },
  {
   "cell_type": "code",
   "execution_count": 43,
   "metadata": {},
   "outputs": [
    {
     "data": {
      "text/plain": [
       "array([[ 1.        , -0.57812283,  0.26576343, ...,  0.31519819,\n",
       "         0.32510645,  0.28757792],\n",
       "       [-0.57812283,  1.        ,  0.24205664, ..., -0.33641209,\n",
       "        -0.32415074, -0.30867148],\n",
       "       [ 0.26576343,  0.24205664,  1.        , ..., -0.01806527,\n",
       "         0.00146444, -0.02408022],\n",
       "       ...,\n",
       "       [ 0.31519819, -0.33641209, -0.01806527, ...,  1.        ,\n",
       "         0.56856036,  0.54996412],\n",
       "       [ 0.32510645, -0.32415074,  0.00146444, ...,  0.56856036,\n",
       "         1.        ,  0.60480487],\n",
       "       [ 0.28757792, -0.30867148, -0.02408022, ...,  0.54996412,\n",
       "         0.60480487,  1.        ]])"
      ]
     },
     "execution_count": 43,
     "metadata": {},
     "output_type": "execute_result"
    }
   ],
   "source": [
    "correlations = np.corrcoef(all_feature_train_data, rowvar=False)\n",
    "correlations"
   ]
  },
  {
   "cell_type": "code",
   "execution_count": 44,
   "metadata": {},
   "outputs": [
    {
     "name": "stdout",
     "output_type": "stream",
     "text": [
      "mean: [0.18623086 0.17793586 0.02733775 ... 0.20211484 0.19720213 0.19724352]\n",
      "min: [3.66359703e-06 2.69406753e-05 8.27868949e-07 ... 1.78196049e-05\n",
      " 1.96209896e-05 7.51326545e-06]\n",
      "median: [0.21177109 0.19751608 0.00859909 ... 0.13430407 0.14951895 0.1375586 ]\n"
     ]
    }
   ],
   "source": [
    "abs_correlations = np.abs(correlations)\n",
    "mean_corr = abs_correlations.mean(axis=1)\n",
    "print(\"mean: {}\".format(mean_corr))\n",
    "min_corr = abs_correlations.min(axis=1)\n",
    "print(\"min: {}\".format(min_corr))\n",
    "median_corr = np.median(abs_correlations, axis=1)\n",
    "print(\"median: {}\".format(median_corr))"
   ]
  },
  {
   "cell_type": "code",
   "execution_count": 45,
   "metadata": {},
   "outputs": [
    {
     "name": "stdout",
     "output_type": "stream",
     "text": [
      "791\n"
     ]
    }
   ],
   "source": [
    "chosen_features = np.where(mean_corr <=0.01)\n",
    "number_of_chosen_features = len(chosen_features[0])\n",
    "print(number_of_chosen_features)\n"
   ]
  },
  {
   "cell_type": "markdown",
   "metadata": {},
   "source": [
    "## Training with Least Correlated Features"
   ]
  },
  {
   "cell_type": "code",
   "execution_count": 46,
   "metadata": {},
   "outputs": [
    {
     "name": "stdout",
     "output_type": "stream",
     "text": [
      "torch.Size([20410, 1, 791])\n",
      "  epoch    train_loss    valid_acc    valid_loss     dur\n",
      "-------  ------------  -----------  ------------  ------\n",
      "      1        \u001b[36m1.1843\u001b[0m       \u001b[32m0.6143\u001b[0m        \u001b[35m1.1224\u001b[0m  1.8490\n",
      "      2        \u001b[36m1.1030\u001b[0m       \u001b[32m0.6556\u001b[0m        \u001b[35m1.0866\u001b[0m  1.7838\n",
      "      3        \u001b[36m1.0638\u001b[0m       \u001b[32m0.6774\u001b[0m        \u001b[35m1.0682\u001b[0m  1.7905\n",
      "      4        \u001b[36m1.0403\u001b[0m       \u001b[32m0.7010\u001b[0m        \u001b[35m1.0405\u001b[0m  1.7848\n",
      "      5        \u001b[36m1.0097\u001b[0m       \u001b[32m0.7370\u001b[0m        \u001b[35m1.0037\u001b[0m  1.7852\n",
      "      6        \u001b[36m0.9712\u001b[0m       0.7365        \u001b[35m0.9999\u001b[0m  1.7918\n",
      "      7        \u001b[36m0.9439\u001b[0m       \u001b[32m0.7717\u001b[0m        \u001b[35m0.9687\u001b[0m  1.7889\n",
      "      8        \u001b[36m0.9178\u001b[0m       \u001b[32m0.7774\u001b[0m        \u001b[35m0.9630\u001b[0m  1.7998\n",
      "      9        \u001b[36m0.9013\u001b[0m       0.7142        1.0242  1.7926\n",
      "     10        \u001b[36m0.8916\u001b[0m       \u001b[32m0.7820\u001b[0m        \u001b[35m0.9575\u001b[0m  1.7912\n",
      "     11        \u001b[36m0.8770\u001b[0m       \u001b[32m0.7869\u001b[0m        \u001b[35m0.9523\u001b[0m  1.9307\n",
      "     12        \u001b[36m0.8750\u001b[0m       0.7641        0.9767  1.8473\n",
      "     13        \u001b[36m0.8639\u001b[0m       \u001b[32m0.7962\u001b[0m        \u001b[35m0.9435\u001b[0m  1.7879\n",
      "     14        \u001b[36m0.8581\u001b[0m       \u001b[32m0.7982\u001b[0m        \u001b[35m0.9423\u001b[0m  1.7880\n",
      "     15        \u001b[36m0.8567\u001b[0m       0.7977        0.9444  1.8365\n",
      "     16        0.8594       \u001b[32m0.8134\u001b[0m        \u001b[35m0.9281\u001b[0m  1.8196\n",
      "     17        \u001b[36m0.8485\u001b[0m       \u001b[32m0.8163\u001b[0m        \u001b[35m0.9249\u001b[0m  1.7995\n",
      "     18        \u001b[36m0.8463\u001b[0m       \u001b[32m0.8197\u001b[0m        \u001b[35m0.9237\u001b[0m  1.8041\n",
      "     19        \u001b[36m0.8459\u001b[0m       0.8104        0.9326  1.7940\n",
      "     20        0.8462       0.8090        0.9318  1.7969\n",
      "Accuracy of Net: 0.89\n",
      "\n",
      "Classification report:\n",
      "              precision    recall  f1-score   support\n",
      "\n",
      "           0       0.79      0.85      0.82      5050\n",
      "           1       0.94      0.98      0.96      5904\n",
      "           2       0.85      0.75      0.80      4912\n",
      "           3       0.98      0.97      0.97      4544\n",
      "\n",
      "   micro avg       0.89      0.89      0.89     20410\n",
      "   macro avg       0.89      0.89      0.89     20410\n",
      "weighted avg       0.89      0.89      0.89     20410\n",
      "\n"
     ]
    },
    {
     "data": {
      "image/png": "[encoded data removed]",
      "text/plain": [
       "<Figure size 720x720 with 1 Axes>"
      ]
     },
     "metadata": {
      "needs_background": "light"
     },
     "output_type": "display_data"
    }
   ],
   "source": [
    "x_train = torch.tensor(all_feature_train_data[:, chosen_features]).float()\n",
    "print(x_train.shape)\n",
    "chosen_feature_model, \\\n",
    "chosen_feature_pred_train, \\\n",
    "chosen_feature_accuracy = train_model(n_features=number_of_chosen_features, \n",
    "                                   n_channels=1, x_train=x_train,\n",
    "           y_train=y_train, n_epochs=20)"
   ]
  },
  {
   "cell_type": "markdown",
   "metadata": {},
   "source": [
    "## Conclusion\n",
    "* We have seen how to produce different types of features: FFT, PCA, and Stats\n",
    "* Pytorch, Scorch, and SKLearn used for Deep Learning\n",
    "* The Value of selecting the less correlated features\n",
    "* Questions ?! "
   ]
  }
 ],
 "metadata": {
  "kernelspec": {
   "display_name": "Python 3",
   "language": "python",
   "name": "python3"
  },
  "language_info": {
   "codemirror_mode": {
    "name": "ipython",
    "version": 3
   },
   "file_extension": ".py",
   "mimetype": "text/x-python",
   "name": "python",
   "nbconvert_exporter": "python",
   "pygments_lexer": "ipython3",
   "version": "3.6.9"
  },
  "varInspector": {
   "cols": {
    "lenName": 16,
    "lenType": 16,
    "lenVar": 40
   },
   "kernels_config": {
    "python": {
     "delete_cmd_postfix": "",
     "delete_cmd_prefix": "del ",
     "library": "var_list.py",
     "varRefreshCmd": "print(var_dic_list())"
    },
    "r": {
     "delete_cmd_postfix": ") ",
     "delete_cmd_prefix": "rm(",
     "library": "var_list.r",
     "varRefreshCmd": "cat(var_dic_list()) "
    }
   },
   "position": {
    "height": "144px",
    "left": "770.033px",
    "right": "20px",
    "top": "119px",
    "width": "350px"
   },
   "types_to_exclude": [
    "module",
    "function",
    "builtin_function_or_method",
    "instance",
    "_Feature"
   ],
   "window_display": false
  }
 },
 "nbformat": 4,
 "nbformat_minor": 2
}
